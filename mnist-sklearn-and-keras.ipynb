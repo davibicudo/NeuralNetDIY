{
 "cells": [
  {
   "cell_type": "markdown",
   "metadata": {
    "_uuid": "972f90217a185b93981aef489046a0aefbc64dc8"
   },
   "source": [
    "# **MNIST: Sklearn and Keras** \n",
    "**Comparing the performance of ML and DL classification models on**  \n",
    "**the Digit Recognizer (MNIST) competition**  \n",
    "\n",
    "\n",
    "*from Kaggle:*   \n",
    "MNIST (\"Modified National Institute of Standards and Technology\") is the de facto “hello world” dataset of computer vision.  \n",
    "In this competition, your goal is to correctly identify digits from a dataset of tens of thousands of handwritten images."
   ]
  },
  {
   "cell_type": "markdown",
   "metadata": {
    "_uuid": "a8840cfb479892df49d74122e7281a1b949d4036"
   },
   "source": [
    "**My first kernel for the MNIST Digit Recognizer Competition**  \n",
    "\n",
    "The kernel includes an **EDA part** on the distribution of labels and some sample images for each digit.  \n",
    "We explore how the images of handwritten digits are stored as 784 values (pixels).  \n",
    "We transform these 784 pixels back to images of 28 x 28 (width x heigth) and have a look at possible difficulties in identifying and distinguishing certain digits.  \n",
    "The part on **prediction modelling** starts with **classifiers from sklearn**:  \n",
    "Perceptron, Logistic Regression, Random Forest, SVM, Multi Layer Perceptron  \n",
    "and then continues to **Neural Networks with Keras**:   \n",
    "Dense (1,2 and 3 layers) and CNN (Conv2D, MaxPooling, Dropout)"
   ]
  },
  {
   "cell_type": "markdown",
   "metadata": {
    "_uuid": "5a15f0810640d7baad9c31c5b530814343d65dc6"
   },
   "source": [
    "**Outline of the kernel:**\n",
    "\n",
    "**Part 0: Imports, functions**\n",
    "\n",
    "[some useful functions](#some-useful-functions)\n",
    "\n",
    "\n",
    "**Part 1: Exploring the Data**\n",
    "\n",
    "[Distribution of labels](#Distribution-of-labels)  \n",
    "[first 10 samples for each digit](#first-10-image-samples-for-each-digit)  \n",
    "[Conclusions on EDA](#Conclusions-on-EDA) \n",
    "\n",
    "\n",
    "**Part 2: Sklearn Classifiers** \n",
    "\n",
    "[Perceptron](#Perceptron)  \n",
    "[Logistic Regression](#Logistic-Regression)  \n",
    "[KNN](#KNN)  \n",
    "[Random Forest Classifier](#Random-Forest-Classifier)  \n",
    "[Support Vector Machine Classifier](#Support-Vector-Machine-Classifier)  \n",
    "[Multi Layer Perceptron](#Multi-Layer-Perceptron)\n",
    "\n",
    "\n",
    "**Part 3: NN and CNN Classifiers with Keras**\n",
    "\n",
    "3.1 Fully-Connected Neural Networks  \n",
    "[Keras: dense, 1 hidden layer](#Keras:-1-hidden-layer)  \n",
    "[Keras: dense, 2 hidden layers](#Keras:-2-hidden-layers)  \n",
    "[Keras: dense, 3 hidden layers](#Keras:-3-hidden-layers)  \n",
    "3.2 Convolutional Neural Networks, CNN  \n",
    "[features : reshaping 1d vector to 2d images](#features-:-reshaping-1d-vector-to-2d-images)  \n",
    "[Keras: CNN, model 1](#Keras:-CNN-model-1)  \n",
    "[Keras: CNN, model 2](#Keras:-CNN-model-2)\n",
    "\n",
    "**Part 4: Predictions for test data**  \n",
    "[Fitting on all training data](#Fitting-on-all-training-data)  \n",
    "\n",
    "**Part 5: Comparing classifier performance**  \n",
    "[Validation scores](#Validation-scores)  \n",
    "[Test scores](#Test-scores)  \n",
    "\n",
    "\n",
    "**Part 6: Different optimizers**  \n",
    "adadelta  \n",
    "rmsprop  \n",
    "adam  \n",
    "\n",
    "**Part 7: Investigating false predictions**\n"
   ]
  },
  {
   "cell_type": "code",
   "execution_count": null,
   "metadata": {},
   "outputs": [],
   "source": []
  },
  {
   "cell_type": "markdown",
   "metadata": {
    "_uuid": "f001988cbe36bd9d1ce9dcc712c7b06635fd8a7d"
   },
   "source": [
    "# Part 0: Imports, Functions"
   ]
  },
  {
   "cell_type": "code",
   "execution_count": 1,
   "metadata": {
    "_cell_guid": "b1076dfc-b9ad-4769-8c92-a6c4dae69d19",
    "_uuid": "8f2839f25d086af736a60e9eeb907d3b93b6e0e5"
   },
   "outputs": [
    {
     "data": {
      "text/html": [
       "        <script type=\"text/javascript\">\n",
       "        window.PlotlyConfig = {MathJaxConfig: 'local'};\n",
       "        if (window.MathJax) {MathJax.Hub.Config({SVG: {font: \"STIX-Web\"}});}\n",
       "        if (typeof require !== 'undefined') {\n",
       "        require.undef(\"plotly\");\n",
       "        requirejs.config({\n",
       "            paths: {\n",
       "                'plotly': ['https://cdn.plot.ly/plotly-2.4.2.min']\n",
       "            }\n",
       "        });\n",
       "        require(['plotly'], function(Plotly) {\n",
       "            window._Plotly = Plotly;\n",
       "        });\n",
       "        }\n",
       "        </script>\n",
       "        "
      ]
     },
     "metadata": {},
     "output_type": "display_data"
    },
    {
     "name": "stdout",
     "output_type": "stream",
     "text": [
      "['mnist_train_pt1.csv', 'mnist_train_pt2.csv', 'mnist_test.csv']\n"
     ]
    }
   ],
   "source": [
    "import numpy as np \n",
    "import pandas as pd \n",
    "\n",
    "import random as rn\n",
    "\n",
    "import matplotlib.pyplot as plt\n",
    "import matplotlib.image as mpimg\n",
    "import seaborn as sns\n",
    "%matplotlib inline\n",
    "\n",
    "# plotly library\n",
    "import chart_studio.plotly as py\n",
    "import plotly.graph_objs as go\n",
    "from plotly import tools\n",
    "from plotly.offline import init_notebook_mode, iplot\n",
    "init_notebook_mode(connected=True)\n",
    "\n",
    "from sklearn.preprocessing import LabelEncoder\n",
    "from sklearn.metrics import confusion_matrix, classification_report, accuracy_score\n",
    "from sklearn.model_selection import train_test_split\n",
    "from sklearn.model_selection import cross_val_score, KFold \n",
    "from sklearn.model_selection import RandomizedSearchCV, GridSearchCV\n",
    "from sklearn.pipeline import Pipeline\n",
    "from scipy.stats import uniform\n",
    "\n",
    "import itertools\n",
    "\n",
    "import warnings\n",
    "from sklearn.exceptions import ConvergenceWarning\n",
    "warnings.filterwarnings(\"ignore\", category=ConvergenceWarning)\n",
    "\n",
    "from keras.utils.np_utils import to_categorical\n",
    "from keras.utils import np_utils\n",
    "\n",
    "from keras.models import Sequential\n",
    "from keras.layers import Dense, Dropout, Flatten\n",
    "from keras.layers import Conv2D, MaxPooling2D, MaxPool2D\n",
    "#from keras.layers import AvgPool2D, BatchNormalization, Reshape\n",
    "from keras.optimizers import Adadelta, RMSprop, Adam\n",
    "from keras.losses import categorical_crossentropy\n",
    "from keras.wrappers.scikit_learn import KerasClassifier\n",
    "\n",
    "import tensorflow as tf\n",
    "\n",
    "import os\n",
    "print(os.listdir(\"MNIST\"))\n"
   ]
  },
  {
   "cell_type": "markdown",
   "metadata": {
    "_uuid": "613c5dcdfdde0b99ef2292da1d59c22edfc70fcf"
   },
   "source": [
    "**some global variables**"
   ]
  },
  {
   "cell_type": "code",
   "execution_count": 2,
   "metadata": {
    "_uuid": "d20ddc5ea49a5ddd0cb251a32c1fafe257afb124"
   },
   "outputs": [],
   "source": [
    "img_rows, img_cols = 28, 28\n",
    "\n",
    "np.random.seed(5)\n",
    "#rn.seed(5)\n",
    "#tf.set_random_seed(5)"
   ]
  },
  {
   "cell_type": "markdown",
   "metadata": {
    "_uuid": "e76e22587309810772340c55880e3c721772257a"
   },
   "source": [
    "### **some useful functions**"
   ]
  },
  {
   "cell_type": "markdown",
   "metadata": {
    "_uuid": "67b0d192f7523e0bae49f6fc5498d83418f6d97b"
   },
   "source": [
    "### get_best_score for GridSearchCV"
   ]
  },
  {
   "cell_type": "code",
   "execution_count": 3,
   "metadata": {
    "_uuid": "3796d134b019785d4b60357db28151a4b32dc7ab"
   },
   "outputs": [],
   "source": [
    "def get_best_score(model):\n",
    "    \n",
    "    print(model.best_score_)    \n",
    "    print(model.best_params_)\n",
    "    print(model.best_estimator_)\n",
    "    \n",
    "    return model.best_score_"
   ]
  },
  {
   "cell_type": "markdown",
   "metadata": {
    "_uuid": "0b48ff13fda2010e77067f7f9e0a312774f7c6b7"
   },
   "source": [
    "### print Classification Report and Accuracy"
   ]
  },
  {
   "cell_type": "code",
   "execution_count": 4,
   "metadata": {
    "_uuid": "6b2924e8055b1cd5c87db52dc75c5d18fb2f932f"
   },
   "outputs": [],
   "source": [
    "def print_validation_report(y_true, y_pred):\n",
    "    print(\"Classification Report\")\n",
    "    print(classification_report(y_true, y_pred))\n",
    "    acc_sc = accuracy_score(y_true, y_pred)\n",
    "    print(\"Accuracy : \"+ str(acc_sc))\n",
    "    \n",
    "    return acc_sc"
   ]
  },
  {
   "cell_type": "markdown",
   "metadata": {
    "_uuid": "be3fac7d609a819d441a1799b57891381d21253c"
   },
   "source": [
    "### plot_confusion_matrix"
   ]
  },
  {
   "cell_type": "code",
   "execution_count": 5,
   "metadata": {
    "_uuid": "be399813086badb7465791bc904ff95970687f3b"
   },
   "outputs": [],
   "source": [
    "def plot_confusion_matrix(y_true, y_pred):\n",
    "    mtx = confusion_matrix(y_true, y_pred)\n",
    "    fig, ax = plt.subplots(figsize=(8,8))\n",
    "    sns.heatmap(mtx, annot=True, fmt='d', linewidths=.5,  cbar=False, ax=ax)\n",
    "    #  square=True,\n",
    "    plt.ylabel('true label')\n",
    "    plt.xlabel('predicted label')"
   ]
  },
  {
   "cell_type": "markdown",
   "metadata": {
    "_uuid": "95c1ee02cd8ecc860c901bb5d91a34544dd7e3ad"
   },
   "source": [
    "### plot_history_loss_and_acc"
   ]
  },
  {
   "cell_type": "code",
   "execution_count": 6,
   "metadata": {
    "_uuid": "678cc8ca95af1cc66bf9b365e996225751156242"
   },
   "outputs": [],
   "source": [
    "def plot_history_loss_and_acc(history_keras_nn):\n",
    "\n",
    "    fig, axs = plt.subplots(1,2, figsize=(12,4))\n",
    "\n",
    "    axs[0].plot(history_keras_nn.history['loss'])\n",
    "    axs[0].plot(history_keras_nn.history['val_loss'])\n",
    "    axs[0].set_title('model loss')\n",
    "    axs[0].set_ylabel('loss')\n",
    "    axs[0].set_xlabel('epoch')\n",
    "    axs[0].legend(['train', 'validation'], loc='upper left')\n",
    "\n",
    "    axs[1].plot(history_keras_nn.history['acc'])\n",
    "    axs[1].plot(history_keras_nn.history['val_acc'])\n",
    "    axs[1].set_title('model accuracy')\n",
    "    axs[1].set_ylabel('accuracy')\n",
    "    axs[1].set_xlabel('epoch')\n",
    "    axs[1].legend(['train', 'validation'], loc='upper left')\n",
    "\n",
    "    plt.show()"
   ]
  },
  {
   "cell_type": "markdown",
   "metadata": {
    "_uuid": "4c709b6bd14531e7b0248d7e0ef3abb378ae2ae3"
   },
   "source": [
    "### **Reading the data**"
   ]
  },
  {
   "cell_type": "code",
   "execution_count": 7,
   "metadata": {
    "_uuid": "a5ecb7548864377c6d794e0f61b79884e45602fe"
   },
   "outputs": [],
   "source": [
    "train = pd.read_csv(\"MNIST/mnist_train_pt1.csv\").append(pd.read_csv(\"MNIST/mnist_train_pt2.csv\"), ignore_index=True)\n",
    "test = pd.read_csv(\"MNIST/mnist_test.csv\")"
   ]
  },
  {
   "cell_type": "code",
   "execution_count": 8,
   "metadata": {
    "_uuid": "02f31d6447f9f2f554f6055314a4d7d60ffa8d2a"
   },
   "outputs": [],
   "source": [
    "y = train[\"label\"]\n",
    "X = train.drop([\"label\"],axis = 1)\n",
    "X_test = test"
   ]
  },
  {
   "cell_type": "markdown",
   "metadata": {
    "_uuid": "81951a034d3cbe377d8d6ab3ca6386e3fc6ba278"
   },
   "source": [
    "### Normalization"
   ]
  },
  {
   "cell_type": "code",
   "execution_count": 9,
   "metadata": {
    "_uuid": "865c65cb54e8c0f619914a445133800453620fd1"
   },
   "outputs": [],
   "source": [
    "X = X/255.0\n",
    "X_test = X_test/255.0"
   ]
  },
  {
   "cell_type": "markdown",
   "metadata": {
    "_uuid": "486e5a1ec5ea278cf8404cdc289bf252c453b8ed"
   },
   "source": [
    "### setting train and validation data"
   ]
  },
  {
   "cell_type": "code",
   "execution_count": 10,
   "metadata": {
    "_uuid": "551c7ff8551d3c080b22d7f014cb4b9f0d64ae23"
   },
   "outputs": [
    {
     "name": "stdout",
     "output_type": "stream",
     "text": [
      "nr_samples train data: 30000\n",
      "start_ix_val: 30000\n",
      "end_ix_val: 40000\n"
     ]
    }
   ],
   "source": [
    "# for best performance, especially of the NN classfiers,\n",
    "# set mode = \"commit\"\n",
    "mode = \"edit\"\n",
    "mode = \"commit\"\n",
    "#\n",
    "\n",
    "if mode == \"edit\" :\n",
    "    nr_samples = 1200\n",
    "\n",
    "if mode == \"commit\" :    \n",
    "    nr_samples = 30000\n",
    "\n",
    "y_train=y[:nr_samples]\n",
    "X_train=X[:nr_samples]\n",
    "start_ix_val = nr_samples \n",
    "end_ix_val = nr_samples + int(nr_samples/3)\n",
    "y_val=y[start_ix_val:end_ix_val]\n",
    "X_val=X[start_ix_val:end_ix_val]\n",
    "    \n",
    "print(\"nr_samples train data:\", nr_samples)\n",
    "print(\"start_ix_val:\", start_ix_val)\n",
    "print(\"end_ix_val:\", end_ix_val)"
   ]
  },
  {
   "cell_type": "code",
   "execution_count": null,
   "metadata": {
    "_uuid": "4fe3baf442262e4e1a6b7e79595ea0651c043754"
   },
   "outputs": [],
   "source": []
  },
  {
   "cell_type": "markdown",
   "metadata": {
    "_uuid": "dc36e607a9b91f6b3629a69b04fcd4c63a9d00a2"
   },
   "source": [
    "# Part 1 : Exploring the Data"
   ]
  },
  {
   "cell_type": "code",
   "execution_count": 11,
   "metadata": {
    "_uuid": "3a29bc0afc5386409cbc482d99e5907dc45c4771"
   },
   "outputs": [
    {
     "name": "stdout",
     "output_type": "stream",
     "text": [
      "X:\n",
      "<class 'pandas.core.frame.DataFrame'>\n",
      "RangeIndex: 60000 entries, 0 to 59999\n",
      "Columns: 784 entries, 1x1 to 28x28\n",
      "dtypes: float64(784)\n",
      "memory usage: 358.9 MB\n",
      "None\n",
      "**************************************************\n",
      "X_test:\n",
      "<class 'pandas.core.frame.DataFrame'>\n",
      "RangeIndex: 10000 entries, 0 to 9999\n",
      "Columns: 785 entries, label to 28x28\n",
      "dtypes: float64(785)\n",
      "memory usage: 59.9 MB\n",
      "None\n",
      "**************************************************\n",
      "y:\n",
      "(60000,)\n"
     ]
    }
   ],
   "source": [
    "print(\"X:\")\n",
    "print(X.info())\n",
    "print(\"*\"*50)\n",
    "print(\"X_test:\")\n",
    "print(X_test.info())\n",
    "print(\"*\"*50)\n",
    "print(\"y:\")\n",
    "print(y.shape)"
   ]
  },
  {
   "cell_type": "code",
   "execution_count": 12,
   "metadata": {
    "_uuid": "23b83df6872036ce3777486826a6752db65489e2"
   },
   "outputs": [
    {
     "data": {
      "text/html": [
       "<div>\n",
       "<style scoped>\n",
       "    .dataframe tbody tr th:only-of-type {\n",
       "        vertical-align: middle;\n",
       "    }\n",
       "\n",
       "    .dataframe tbody tr th {\n",
       "        vertical-align: top;\n",
       "    }\n",
       "\n",
       "    .dataframe thead th {\n",
       "        text-align: right;\n",
       "    }\n",
       "</style>\n",
       "<table border=\"1\" class=\"dataframe\">\n",
       "  <thead>\n",
       "    <tr style=\"text-align: right;\">\n",
       "      <th></th>\n",
       "      <th>1x1</th>\n",
       "      <th>1x2</th>\n",
       "      <th>1x3</th>\n",
       "      <th>1x4</th>\n",
       "      <th>1x5</th>\n",
       "      <th>1x6</th>\n",
       "      <th>1x7</th>\n",
       "      <th>1x8</th>\n",
       "      <th>1x9</th>\n",
       "      <th>1x10</th>\n",
       "      <th>...</th>\n",
       "      <th>28x19</th>\n",
       "      <th>28x20</th>\n",
       "      <th>28x21</th>\n",
       "      <th>28x22</th>\n",
       "      <th>28x23</th>\n",
       "      <th>28x24</th>\n",
       "      <th>28x25</th>\n",
       "      <th>28x26</th>\n",
       "      <th>28x27</th>\n",
       "      <th>28x28</th>\n",
       "    </tr>\n",
       "  </thead>\n",
       "  <tbody>\n",
       "    <tr>\n",
       "      <th>0</th>\n",
       "      <td>0.0</td>\n",
       "      <td>0.0</td>\n",
       "      <td>0.0</td>\n",
       "      <td>0.0</td>\n",
       "      <td>0.0</td>\n",
       "      <td>0.0</td>\n",
       "      <td>0.0</td>\n",
       "      <td>0.0</td>\n",
       "      <td>0.0</td>\n",
       "      <td>0.0</td>\n",
       "      <td>...</td>\n",
       "      <td>0.0</td>\n",
       "      <td>0.0</td>\n",
       "      <td>0.0</td>\n",
       "      <td>0.0</td>\n",
       "      <td>0.0</td>\n",
       "      <td>0.0</td>\n",
       "      <td>0.0</td>\n",
       "      <td>0.0</td>\n",
       "      <td>0.0</td>\n",
       "      <td>0.0</td>\n",
       "    </tr>\n",
       "    <tr>\n",
       "      <th>1</th>\n",
       "      <td>0.0</td>\n",
       "      <td>0.0</td>\n",
       "      <td>0.0</td>\n",
       "      <td>0.0</td>\n",
       "      <td>0.0</td>\n",
       "      <td>0.0</td>\n",
       "      <td>0.0</td>\n",
       "      <td>0.0</td>\n",
       "      <td>0.0</td>\n",
       "      <td>0.0</td>\n",
       "      <td>...</td>\n",
       "      <td>0.0</td>\n",
       "      <td>0.0</td>\n",
       "      <td>0.0</td>\n",
       "      <td>0.0</td>\n",
       "      <td>0.0</td>\n",
       "      <td>0.0</td>\n",
       "      <td>0.0</td>\n",
       "      <td>0.0</td>\n",
       "      <td>0.0</td>\n",
       "      <td>0.0</td>\n",
       "    </tr>\n",
       "    <tr>\n",
       "      <th>2</th>\n",
       "      <td>0.0</td>\n",
       "      <td>0.0</td>\n",
       "      <td>0.0</td>\n",
       "      <td>0.0</td>\n",
       "      <td>0.0</td>\n",
       "      <td>0.0</td>\n",
       "      <td>0.0</td>\n",
       "      <td>0.0</td>\n",
       "      <td>0.0</td>\n",
       "      <td>0.0</td>\n",
       "      <td>...</td>\n",
       "      <td>0.0</td>\n",
       "      <td>0.0</td>\n",
       "      <td>0.0</td>\n",
       "      <td>0.0</td>\n",
       "      <td>0.0</td>\n",
       "      <td>0.0</td>\n",
       "      <td>0.0</td>\n",
       "      <td>0.0</td>\n",
       "      <td>0.0</td>\n",
       "      <td>0.0</td>\n",
       "    </tr>\n",
       "    <tr>\n",
       "      <th>3</th>\n",
       "      <td>0.0</td>\n",
       "      <td>0.0</td>\n",
       "      <td>0.0</td>\n",
       "      <td>0.0</td>\n",
       "      <td>0.0</td>\n",
       "      <td>0.0</td>\n",
       "      <td>0.0</td>\n",
       "      <td>0.0</td>\n",
       "      <td>0.0</td>\n",
       "      <td>0.0</td>\n",
       "      <td>...</td>\n",
       "      <td>0.0</td>\n",
       "      <td>0.0</td>\n",
       "      <td>0.0</td>\n",
       "      <td>0.0</td>\n",
       "      <td>0.0</td>\n",
       "      <td>0.0</td>\n",
       "      <td>0.0</td>\n",
       "      <td>0.0</td>\n",
       "      <td>0.0</td>\n",
       "      <td>0.0</td>\n",
       "    </tr>\n",
       "    <tr>\n",
       "      <th>4</th>\n",
       "      <td>0.0</td>\n",
       "      <td>0.0</td>\n",
       "      <td>0.0</td>\n",
       "      <td>0.0</td>\n",
       "      <td>0.0</td>\n",
       "      <td>0.0</td>\n",
       "      <td>0.0</td>\n",
       "      <td>0.0</td>\n",
       "      <td>0.0</td>\n",
       "      <td>0.0</td>\n",
       "      <td>...</td>\n",
       "      <td>0.0</td>\n",
       "      <td>0.0</td>\n",
       "      <td>0.0</td>\n",
       "      <td>0.0</td>\n",
       "      <td>0.0</td>\n",
       "      <td>0.0</td>\n",
       "      <td>0.0</td>\n",
       "      <td>0.0</td>\n",
       "      <td>0.0</td>\n",
       "      <td>0.0</td>\n",
       "    </tr>\n",
       "  </tbody>\n",
       "</table>\n",
       "<p>5 rows × 784 columns</p>\n",
       "</div>"
      ],
      "text/plain": [
       "   1x1  1x2  1x3  1x4  1x5  1x6  1x7  1x8  1x9  1x10  ...  28x19  28x20  \\\n",
       "0  0.0  0.0  0.0  0.0  0.0  0.0  0.0  0.0  0.0   0.0  ...    0.0    0.0   \n",
       "1  0.0  0.0  0.0  0.0  0.0  0.0  0.0  0.0  0.0   0.0  ...    0.0    0.0   \n",
       "2  0.0  0.0  0.0  0.0  0.0  0.0  0.0  0.0  0.0   0.0  ...    0.0    0.0   \n",
       "3  0.0  0.0  0.0  0.0  0.0  0.0  0.0  0.0  0.0   0.0  ...    0.0    0.0   \n",
       "4  0.0  0.0  0.0  0.0  0.0  0.0  0.0  0.0  0.0   0.0  ...    0.0    0.0   \n",
       "\n",
       "   28x21  28x22  28x23  28x24  28x25  28x26  28x27  28x28  \n",
       "0    0.0    0.0    0.0    0.0    0.0    0.0    0.0    0.0  \n",
       "1    0.0    0.0    0.0    0.0    0.0    0.0    0.0    0.0  \n",
       "2    0.0    0.0    0.0    0.0    0.0    0.0    0.0    0.0  \n",
       "3    0.0    0.0    0.0    0.0    0.0    0.0    0.0    0.0  \n",
       "4    0.0    0.0    0.0    0.0    0.0    0.0    0.0    0.0  \n",
       "\n",
       "[5 rows x 784 columns]"
      ]
     },
     "execution_count": 12,
     "metadata": {},
     "output_type": "execute_result"
    }
   ],
   "source": [
    "X.iloc[0:5,:]"
   ]
  },
  {
   "cell_type": "code",
   "execution_count": 13,
   "metadata": {
    "_uuid": "b6fe345d6f690bffcfbdb2bd1484c56922cb8a78"
   },
   "outputs": [
    {
     "data": {
      "text/plain": [
       "0    5\n",
       "1    0\n",
       "2    4\n",
       "3    1\n",
       "4    9\n",
       "Name: label, dtype: int64"
      ]
     },
     "execution_count": 13,
     "metadata": {},
     "output_type": "execute_result"
    }
   ],
   "source": [
    "y.iloc[0:5]"
   ]
  },
  {
   "cell_type": "code",
   "execution_count": 14,
   "metadata": {
    "_uuid": "015ed5a417dcb5af2d4ade65726e9eeb5db58bc1"
   },
   "outputs": [
    {
     "data": {
      "image/png": "[encoded data removed]",
      "text/plain": [
       "<Figure size 720x432 with 5 Axes>"
      ]
     },
     "metadata": {
      "needs_background": "light"
     },
     "output_type": "display_data"
    }
   ],
   "source": [
    "fig, axs = plt.subplots(1, 5, sharex=True, sharey=True, figsize=(10,6))\n",
    "axs = axs.flatten()\n",
    "for i in range(0,5):\n",
    "    im = X.iloc[i]\n",
    "    im = im.values.reshape(-1,28,28,1)\n",
    "    axs[i].imshow(im[0,:,:,0], cmap=plt.get_cmap('gray'))\n",
    "    axs[i].set_title(y[i])\n",
    "plt.tight_layout()    "
   ]
  },
  {
   "cell_type": "code",
   "execution_count": null,
   "metadata": {
    "_uuid": "ec0b8d7effc2646021d3774443b14051986bccb1"
   },
   "outputs": [],
   "source": []
  },
  {
   "cell_type": "markdown",
   "metadata": {
    "_uuid": "ba4253f25dc25b8e0f8bb6e95669d28d5e253161"
   },
   "source": [
    "### Distribution of labels \n",
    "**(in train set)**"
   ]
  },
  {
   "cell_type": "code",
   "execution_count": 15,
   "metadata": {
    "_uuid": "2bd17d6ddc16abc28916fbffba8d8f1dc85d5889"
   },
   "outputs": [
    {
     "data": {
      "text/plain": [
       "1    6742\n",
       "7    6265\n",
       "3    6131\n",
       "2    5958\n",
       "9    5949\n",
       "0    5923\n",
       "6    5918\n",
       "8    5851\n",
       "4    5842\n",
       "5    5421\n",
       "Name: label, dtype: int64"
      ]
     },
     "execution_count": 15,
     "metadata": {},
     "output_type": "execute_result"
    }
   ],
   "source": [
    "y.value_counts()"
   ]
  },
  {
   "cell_type": "code",
   "execution_count": 16,
   "metadata": {
    "_uuid": "1d6341bf5524ea7fb274360332ad5823c4982fd0"
   },
   "outputs": [
    {
     "name": "stderr",
     "output_type": "stream",
     "text": [
      "/usr/local/Caskroom/mambaforge/base/envs/ads/lib/python3.9/site-packages/seaborn/_decorators.py:36: FutureWarning:\n",
      "\n",
      "Pass the following variable as a keyword arg: x. From version 0.12, the only valid positional argument will be `data`, and passing other arguments without an explicit keyword will result in an error or misinterpretation.\n",
      "\n"
     ]
    },
    {
     "data": {
      "image/png": "[encoded data removed]",
      "text/plain": [
       "<Figure size 576x360 with 1 Axes>"
      ]
     },
     "metadata": {
      "needs_background": "light"
     },
     "output_type": "display_data"
    }
   ],
   "source": [
    "fig, ax = plt.subplots(figsize=(8,5))\n",
    "g = sns.countplot(y)"
   ]
  },
  {
   "cell_type": "markdown",
   "metadata": {
    "_uuid": "49a93e3fb04db8f2bdf2cc3571025becfabf0c5a"
   },
   "source": [
    "### Check some images"
   ]
  },
  {
   "cell_type": "markdown",
   "metadata": {
    "_uuid": "1b37d40c34f0764b5b380a387b85c0e375c7ca33"
   },
   "source": [
    "**get indexes of first 10 occurences for each number**"
   ]
  },
  {
   "cell_type": "code",
   "execution_count": 17,
   "metadata": {
    "_uuid": "2ca8bc2ba4dbce27182114deb56570021b978320"
   },
   "outputs": [],
   "source": [
    "li_idxs = []\n",
    "for i in range(10):\n",
    "    for nr in range(10):\n",
    "        ix = y[y==nr].index[i]\n",
    "        li_idxs.append(ix) "
   ]
  },
  {
   "cell_type": "markdown",
   "metadata": {
    "_uuid": "fc04c8a1b0483378d761d1f750e4543d33136638"
   },
   "source": [
    "### first 10 image samples for each digit"
   ]
  },
  {
   "cell_type": "code",
   "execution_count": 18,
   "metadata": {
    "_uuid": "248fd67a691c82e7cb152b84e4d0d85514c22856"
   },
   "outputs": [
    {
     "data": {
      "image/png": "[encoded data removed]",
      "text/plain": [
       "<Figure size 720x864 with 100 Axes>"
      ]
     },
     "metadata": {
      "needs_background": "light"
     },
     "output_type": "display_data"
    }
   ],
   "source": [
    "fig, axs = plt.subplots(10, 10, sharex=True, sharey=True, figsize=(10,12))\n",
    "axs = axs.flatten()\n",
    "for n, i in enumerate(li_idxs):\n",
    "    im = X.iloc[i]\n",
    "    im = im.values.reshape(-1,28,28,1)\n",
    "    axs[n].imshow(im[0,:,:,0], cmap=plt.get_cmap('gray'))\n",
    "    axs[n].set_title(y[i])\n",
    "plt.tight_layout()    "
   ]
  },
  {
   "cell_type": "markdown",
   "metadata": {
    "_uuid": "38b7b8cdbd0f70e3829e42ae638811c696e6579b"
   },
   "source": [
    "### **Conclusions on EDA**"
   ]
  },
  {
   "cell_type": "markdown",
   "metadata": {
    "_uuid": "c7b46c80bd0cc204f81dcb993aa9bd00bfa214f7"
   },
   "source": [
    "1. **We can see that there is a lot of variety in the look of the numbers**  \n",
    "2. **The digits are obviously written by many different people**\n",
    "3. **And it seems that there might be difficulties identifying some of the digits correctly also for humans:**\n",
    "\n",
    "\n"
   ]
  },
  {
   "cell_type": "markdown",
   "metadata": {
    "_uuid": "cd5d6a3309f095b03b1247157793d10a92f99c82"
   },
   "source": [
    "* The 6s in row 0 1 and 6 look close to a 4  \n",
    "* The 5 in row 1 looks close to a 6 and the 5 in row 8 looks close to a 8  \n",
    "* The 4 in row 4 is wriiten differently as the other 4s and the 4 in row 7 almost looks like a 7  \n",
    "* The 8 in row 8 is wriiten differently as the other 8s  "
   ]
  },
  {
   "cell_type": "markdown",
   "metadata": {
    "_uuid": "d9f9f7fd24e590abaca77f1ffded6c7af50427ea"
   },
   "source": [
    "# Part 2 : Sklearn Classifiers"
   ]
  },
  {
   "cell_type": "code",
   "execution_count": null,
   "metadata": {
    "_uuid": "b8bb8350dbc4f58052cfce448e998b3302690ea1"
   },
   "outputs": [],
   "source": []
  },
  {
   "cell_type": "markdown",
   "metadata": {
    "_uuid": "77ee05aabb4dfd5eb1eceabc1a98b21e020ee2a9"
   },
   "source": [
    "### Perceptron"
   ]
  },
  {
   "cell_type": "code",
   "execution_count": 19,
   "metadata": {
    "_uuid": "1ae5cd03701f0c0555927f24d469123113a436cd"
   },
   "outputs": [
    {
     "name": "stdout",
     "output_type": "stream",
     "text": [
      "Fitting 5 folds for each of 4 candidates, totalling 20 fits\n",
      "0.8480333333333334\n",
      "{'penalty': 'l1', 'tol': 0.1}\n",
      "Perceptron(penalty='l1', tol=0.1)\n"
     ]
    }
   ],
   "source": [
    "from sklearn.linear_model import Perceptron\n",
    "clf_Perceptron = Perceptron(random_state=0)\n",
    "param_grid = { 'penalty': ['l1','l2'], 'tol': [0.05, 0.1] }\n",
    "GridCV_Perceptron = GridSearchCV(clf_Perceptron, param_grid, verbose=1, cv=5)\n",
    "GridCV_Perceptron.fit(X_train,y_train)\n",
    "score_grid_Perceptron = get_best_score(GridCV_Perceptron)"
   ]
  },
  {
   "cell_type": "code",
   "execution_count": 20,
   "metadata": {
    "_uuid": "a837cd6234557015c8326cd281107d2209ca8a40"
   },
   "outputs": [],
   "source": [
    "pred_val_perc = GridCV_Perceptron.predict(X_val)"
   ]
  },
  {
   "cell_type": "code",
   "execution_count": 21,
   "metadata": {
    "_uuid": "e8fcea4c58c1467b7e6f9d1990e4b924180786e2"
   },
   "outputs": [
    {
     "name": "stdout",
     "output_type": "stream",
     "text": [
      "Classification Report\n",
      "              precision    recall  f1-score   support\n",
      "\n",
      "           0       0.94      0.94      0.94       963\n",
      "           1       0.91      0.94      0.92      1140\n",
      "           2       0.64      0.94      0.76       995\n",
      "           3       0.85      0.85      0.85      1008\n",
      "           4       0.84      0.89      0.86       983\n",
      "           5       0.83      0.78      0.81       895\n",
      "           6       0.96      0.86      0.91      1000\n",
      "           7       0.86      0.89      0.87      1018\n",
      "           8       0.84      0.77      0.80       985\n",
      "           9       0.95      0.61      0.74      1013\n",
      "\n",
      "    accuracy                           0.85     10000\n",
      "   macro avg       0.86      0.85      0.85     10000\n",
      "weighted avg       0.86      0.85      0.85     10000\n",
      "\n",
      "Accuracy : 0.8486\n"
     ]
    }
   ],
   "source": [
    "acc_perc = print_validation_report(y_val, pred_val_perc)"
   ]
  },
  {
   "cell_type": "code",
   "execution_count": 22,
   "metadata": {
    "_uuid": "8290c219c3d81cb6856231e6360f70a5f65481c9"
   },
   "outputs": [
    {
     "data": {
      "image/png": "[encoded data removed]",
      "text/plain": [
       "<Figure size 576x576 with 1 Axes>"
      ]
     },
     "metadata": {
      "needs_background": "light"
     },
     "output_type": "display_data"
    }
   ],
   "source": [
    "plot_confusion_matrix(y_val, pred_val_perc)"
   ]
  },
  {
   "cell_type": "markdown",
   "metadata": {
    "_uuid": "d0c06780cfac00efcde0a07784785b9b68e55c14"
   },
   "source": [
    "### Logistic Regression"
   ]
  },
  {
   "cell_type": "code",
   "execution_count": 23,
   "metadata": {
    "_uuid": "6509cf8da9e4666006dc7b72f55bb510ef29309c"
   },
   "outputs": [
    {
     "name": "stdout",
     "output_type": "stream",
     "text": [
      "Fitting 5 folds for each of 2 candidates, totalling 10 fits\n",
      "0.8667333333333334\n",
      "{'C': 0.014, 'multi_class': 'multinomial', 'penalty': 'l1', 'solver': 'saga', 'tol': 0.1}\n",
      "LogisticRegression(C=0.014, multi_class='multinomial', penalty='l1',\n",
      "                   random_state=0, solver='saga', tol=0.1)\n"
     ]
    }
   ],
   "source": [
    "from sklearn.linear_model import LogisticRegression\n",
    "clf_LR = LogisticRegression(random_state=0)\n",
    "param_grid = {'C': [0.014,0.012], 'multi_class': ['multinomial'],  \n",
    "              'penalty': ['l1'],'solver': ['saga'], 'tol': [0.1] }\n",
    "GridCV_LR = GridSearchCV(clf_LR, param_grid, verbose=1, cv=5)\n",
    "GridCV_LR.fit(X_train,y_train)\n",
    "score_grid_LR = get_best_score(GridCV_LR)"
   ]
  },
  {
   "cell_type": "code",
   "execution_count": 24,
   "metadata": {
    "_uuid": "47ff8a03c200fe2984be94514008591c5ba37c47"
   },
   "outputs": [
    {
     "name": "stdout",
     "output_type": "stream",
     "text": [
      "Classification Report\n",
      "              precision    recall  f1-score   support\n",
      "\n",
      "           0       0.94      0.95      0.94       963\n",
      "           1       0.88      0.95      0.91      1140\n",
      "           2       0.91      0.85      0.88       995\n",
      "           3       0.87      0.84      0.85      1008\n",
      "           4       0.86      0.89      0.87       983\n",
      "           5       0.82      0.78      0.80       895\n",
      "           6       0.90      0.89      0.90      1000\n",
      "           7       0.89      0.89      0.89      1018\n",
      "           8       0.84      0.81      0.82       985\n",
      "           9       0.82      0.85      0.83      1013\n",
      "\n",
      "    accuracy                           0.87     10000\n",
      "   macro avg       0.87      0.87      0.87     10000\n",
      "weighted avg       0.87      0.87      0.87     10000\n",
      "\n",
      "Accuracy : 0.8723\n"
     ]
    }
   ],
   "source": [
    "pred_val_lr = GridCV_LR.predict(X_val)\n",
    "acc_lr = print_validation_report(y_val, pred_val_lr)"
   ]
  },
  {
   "cell_type": "code",
   "execution_count": 25,
   "metadata": {
    "_uuid": "ef5fd871318e6d17943399294ac149c5a10680af"
   },
   "outputs": [
    {
     "data": {
      "image/png": "[encoded data removed]",
      "text/plain": [
       "<Figure size 576x576 with 1 Axes>"
      ]
     },
     "metadata": {
      "needs_background": "light"
     },
     "output_type": "display_data"
    }
   ],
   "source": [
    "plot_confusion_matrix(y_val, pred_val_lr)"
   ]
  },
  {
   "cell_type": "code",
   "execution_count": null,
   "metadata": {},
   "outputs": [],
   "source": []
  },
  {
   "cell_type": "markdown",
   "metadata": {},
   "source": [
    "### KNN"
   ]
  },
  {
   "cell_type": "markdown",
   "metadata": {},
   "source": [
    "Using GridSearchCV with KNN takes very long for this dataset.  \n",
    "Therefore I fit the data with one parameter: neighbors = 10  \n",
    "The resulting accuracy is already quite good."
   ]
  },
  {
   "cell_type": "code",
   "execution_count": 26,
   "metadata": {},
   "outputs": [
    {
     "data": {
      "text/plain": [
       "KNeighborsClassifier(n_neighbors=10)"
      ]
     },
     "execution_count": 26,
     "metadata": {},
     "output_type": "execute_result"
    }
   ],
   "source": [
    "from sklearn.neighbors import KNeighborsClassifier\n",
    "clf_knn = KNeighborsClassifier(n_neighbors=10)\n",
    "clf_knn.fit(X_train,y_train)"
   ]
  },
  {
   "cell_type": "code",
   "execution_count": 27,
   "metadata": {},
   "outputs": [
    {
     "name": "stdout",
     "output_type": "stream",
     "text": [
      "Classification Report\n",
      "              precision    recall  f1-score   support\n",
      "\n",
      "           0       0.97      0.98      0.98       963\n",
      "           1       0.94      0.99      0.96      1140\n",
      "           2       0.98      0.95      0.96       995\n",
      "           3       0.95      0.96      0.95      1008\n",
      "           4       0.97      0.96      0.96       983\n",
      "           5       0.94      0.94      0.94       895\n",
      "           6       0.97      0.98      0.98      1000\n",
      "           7       0.95      0.96      0.95      1018\n",
      "           8       0.99      0.90      0.94       985\n",
      "           9       0.94      0.96      0.95      1013\n",
      "\n",
      "    accuracy                           0.96     10000\n",
      "   macro avg       0.96      0.96      0.96     10000\n",
      "weighted avg       0.96      0.96      0.96     10000\n",
      "\n",
      "Accuracy : 0.9585\n"
     ]
    }
   ],
   "source": [
    "pred_val_knn = clf_knn.predict(X_val)\n",
    "acc_knn = print_validation_report(y_val, pred_val_knn)"
   ]
  },
  {
   "cell_type": "code",
   "execution_count": 28,
   "metadata": {},
   "outputs": [
    {
     "data": {
      "image/png": "[encoded data removed]",
      "text/plain": [
       "<Figure size 576x576 with 1 Axes>"
      ]
     },
     "metadata": {
      "needs_background": "light"
     },
     "output_type": "display_data"
    }
   ],
   "source": [
    "plot_confusion_matrix(y_val, pred_val_knn)"
   ]
  },
  {
   "cell_type": "code",
   "execution_count": null,
   "metadata": {},
   "outputs": [],
   "source": []
  },
  {
   "cell_type": "markdown",
   "metadata": {
    "_uuid": "cd8341887be07bc821a1a9033c77543d9e788f9e"
   },
   "source": [
    "### Random Forest Classifier"
   ]
  },
  {
   "cell_type": "code",
   "execution_count": 29,
   "metadata": {
    "_uuid": "b93fae420be63286ee5048491f5db002dd081b7a"
   },
   "outputs": [
    {
     "name": "stdout",
     "output_type": "stream",
     "text": [
      "Fitting 5 folds for each of 1 candidates, totalling 5 fits\n",
      "0.9526333333333333\n",
      "{'max_depth': 15, 'max_features': 100, 'min_samples_split': 5, 'n_estimators': 50}\n",
      "RandomForestClassifier(max_depth=15, max_features=100, min_samples_split=5,\n",
      "                       n_estimators=50, random_state=0)\n"
     ]
    }
   ],
   "source": [
    "from sklearn.ensemble import RandomForestClassifier\n",
    "clf_RF = RandomForestClassifier(random_state=0)\n",
    "param_grid = {'max_depth': [15], 'max_features': [100],  \n",
    "              'min_samples_split': [5],'n_estimators' : [50] }\n",
    "GridCV_RF = GridSearchCV(clf_RF, param_grid, verbose=1, cv=5)\n",
    "GridCV_RF.fit(X_train,y_train)\n",
    "score_grid_RF = get_best_score(GridCV_RF)"
   ]
  },
  {
   "cell_type": "markdown",
   "metadata": {
    "_uuid": "bd62903ef129eb9942ef3e39a943cacbc4d67482"
   },
   "source": [
    "'RandomForestClassifier' object has no attribute 'loss_curve_'"
   ]
  },
  {
   "cell_type": "code",
   "execution_count": 30,
   "metadata": {
    "_uuid": "d42a0976e9aa538de2b8420c2a288f5dc700bff6"
   },
   "outputs": [],
   "source": [
    "pred_val_rf = GridCV_RF.predict(X_val)"
   ]
  },
  {
   "cell_type": "code",
   "execution_count": 31,
   "metadata": {
    "_uuid": "afb30f89aa77e995e817dd01df9763379d10178f"
   },
   "outputs": [
    {
     "name": "stdout",
     "output_type": "stream",
     "text": [
      "Classification Report\n",
      "              precision    recall  f1-score   support\n",
      "\n",
      "           0       0.97      0.98      0.97       963\n",
      "           1       0.98      0.98      0.98      1140\n",
      "           2       0.95      0.96      0.95       995\n",
      "           3       0.95      0.93      0.94      1008\n",
      "           4       0.96      0.96      0.96       983\n",
      "           5       0.95      0.94      0.94       895\n",
      "           6       0.97      0.97      0.97      1000\n",
      "           7       0.96      0.95      0.96      1018\n",
      "           8       0.94      0.94      0.94       985\n",
      "           9       0.93      0.94      0.94      1013\n",
      "\n",
      "    accuracy                           0.96     10000\n",
      "   macro avg       0.96      0.95      0.96     10000\n",
      "weighted avg       0.96      0.96      0.96     10000\n",
      "\n",
      "Accuracy : 0.9554\n"
     ]
    }
   ],
   "source": [
    "acc_rf = print_validation_report(y_val, pred_val_rf)"
   ]
  },
  {
   "cell_type": "code",
   "execution_count": 32,
   "metadata": {
    "_uuid": "070d70f7866ba9f35d1a38f37365f38439db5b88"
   },
   "outputs": [
    {
     "data": {
      "image/png": "[encoded data removed]",
      "text/plain": [
       "<Figure size 576x576 with 1 Axes>"
      ]
     },
     "metadata": {
      "needs_background": "light"
     },
     "output_type": "display_data"
    }
   ],
   "source": [
    "plot_confusion_matrix(y_val, pred_val_rf)"
   ]
  },
  {
   "cell_type": "code",
   "execution_count": null,
   "metadata": {},
   "outputs": [],
   "source": []
  },
  {
   "cell_type": "markdown",
   "metadata": {},
   "source": [
    "### Support Vector Machine Classifier"
   ]
  },
  {
   "cell_type": "markdown",
   "metadata": {},
   "source": [
    "Like for KNN, GridSearchCV for SVM takes very long, so I only fit one good set of parameters here."
   ]
  },
  {
   "cell_type": "code",
   "execution_count": 33,
   "metadata": {},
   "outputs": [
    {
     "data": {
      "text/plain": [
       "SVC(C=5, gamma=0.05, random_state=0)"
      ]
     },
     "execution_count": 33,
     "metadata": {},
     "output_type": "execute_result"
    }
   ],
   "source": [
    "from sklearn.svm import SVC\n",
    "clf_svm = SVC(C=5, gamma=0.05, kernel='rbf', random_state=0)\n",
    "clf_svm.fit(X_train,y_train)"
   ]
  },
  {
   "cell_type": "code",
   "execution_count": 34,
   "metadata": {},
   "outputs": [
    {
     "name": "stdout",
     "output_type": "stream",
     "text": [
      "Classification Report\n",
      "              precision    recall  f1-score   support\n",
      "\n",
      "           0       0.99      0.98      0.98       963\n",
      "           1       0.99      0.99      0.99      1140\n",
      "           2       0.97      0.98      0.97       995\n",
      "           3       0.98      0.97      0.97      1008\n",
      "           4       0.98      0.98      0.98       983\n",
      "           5       0.98      0.97      0.97       895\n",
      "           6       0.99      0.99      0.99      1000\n",
      "           7       0.98      0.97      0.98      1018\n",
      "           8       0.96      0.98      0.97       985\n",
      "           9       0.97      0.97      0.97      1013\n",
      "\n",
      "    accuracy                           0.98     10000\n",
      "   macro avg       0.98      0.98      0.98     10000\n",
      "weighted avg       0.98      0.98      0.98     10000\n",
      "\n",
      "Accuracy : 0.9781\n"
     ]
    }
   ],
   "source": [
    "pred_val_svm = clf_svm.predict(X_val)\n",
    "acc_svm = print_validation_report(y_val, pred_val_svm)"
   ]
  },
  {
   "cell_type": "code",
   "execution_count": 35,
   "metadata": {},
   "outputs": [
    {
     "data": {
      "image/png": "[encoded data removed]",
      "text/plain": [
       "<Figure size 576x576 with 1 Axes>"
      ]
     },
     "metadata": {
      "needs_background": "light"
     },
     "output_type": "display_data"
    }
   ],
   "source": [
    "plot_confusion_matrix(y_val, pred_val_svm)"
   ]
  },
  {
   "cell_type": "code",
   "execution_count": null,
   "metadata": {},
   "outputs": [],
   "source": []
  },
  {
   "cell_type": "markdown",
   "metadata": {
    "_uuid": "716f78e7643e6ec7053c036588f2d93a85ac6d46"
   },
   "source": [
    "### Multi Layer Perceptron"
   ]
  },
  {
   "cell_type": "code",
   "execution_count": 36,
   "metadata": {
    "_uuid": "3658d5421e64553a02fa77736f671dd96adce9e5"
   },
   "outputs": [],
   "source": [
    "batchsize = int(nr_samples/15) "
   ]
  },
  {
   "cell_type": "code",
   "execution_count": 37,
   "metadata": {
    "_uuid": "e15b9d68379a260c295e8b957669d3440af34a48"
   },
   "outputs": [
    {
     "name": "stdout",
     "output_type": "stream",
     "text": [
      "Fitting 3 folds for each of 2 candidates, totalling 6 fits\n",
      "0.9598666666666666\n",
      "{'alpha': 0.0001, 'batch_size': 2000, 'learning_rate_init': 0.06, 'max_iter': 600, 'solver': 'sgd', 'tol': 0.0001}\n",
      "MLPClassifier(activation='logistic', batch_size=2000, hidden_layer_sizes=(200,),\n",
      "              learning_rate_init=0.06, max_iter=600, random_state=0,\n",
      "              solver='sgd')\n"
     ]
    }
   ],
   "source": [
    "from sklearn.neural_network import MLPClassifier\n",
    "\n",
    "clf_mlp = MLPClassifier(activation = \"logistic\", hidden_layer_sizes=(200,), random_state=0)\n",
    "param_grid = { 'batch_size' : [batchsize] , 'max_iter': [600], 'alpha': [1e-4], \n",
    "               'solver': ['sgd'], 'learning_rate_init': [0.05,0.06],'tol': [1e-4] }\n",
    "    \n",
    "GridCV_MLP = GridSearchCV(clf_mlp, param_grid, verbose=1, cv=3)\n",
    "GridCV_MLP.fit(X_train,y_train)\n",
    "score_grid_MLP = get_best_score(GridCV_MLP)   "
   ]
  },
  {
   "cell_type": "code",
   "execution_count": 38,
   "metadata": {
    "_uuid": "4ee434b45062ad02a390b2166cc5965b832eca45"
   },
   "outputs": [
    {
     "data": {
      "image/png": "[encoded data removed]",
      "text/plain": [
       "<Figure size 432x216 with 1 Axes>"
      ]
     },
     "metadata": {
      "needs_background": "light"
     },
     "output_type": "display_data"
    }
   ],
   "source": [
    "fig, ax = plt.subplots(figsize=(6,3))\n",
    "ax.plot(GridCV_MLP.best_estimator_.loss_curve_)\n",
    "\n",
    "plt.xlabel(\"number of steps\") \n",
    "plt.ylabel(\"Loss During GD\")\n",
    "plt.title(\"loss function\")\n",
    "plt.show()"
   ]
  },
  {
   "cell_type": "code",
   "execution_count": 39,
   "metadata": {
    "_uuid": "f459f1891db4014d53e8b3095b194257c67a35fe"
   },
   "outputs": [],
   "source": [
    "pred_val_mlp = GridCV_MLP.predict(X_val)"
   ]
  },
  {
   "cell_type": "code",
   "execution_count": 40,
   "metadata": {
    "_uuid": "b7d06686ac5bfe2d4564f340bb2e65fba84c91ef"
   },
   "outputs": [
    {
     "name": "stdout",
     "output_type": "stream",
     "text": [
      "Classification Report\n",
      "              precision    recall  f1-score   support\n",
      "\n",
      "           0       0.98      0.97      0.98       963\n",
      "           1       0.98      0.99      0.98      1140\n",
      "           2       0.97      0.97      0.97       995\n",
      "           3       0.96      0.96      0.96      1008\n",
      "           4       0.96      0.97      0.96       983\n",
      "           5       0.97      0.94      0.96       895\n",
      "           6       0.97      0.98      0.97      1000\n",
      "           7       0.97      0.97      0.97      1018\n",
      "           8       0.96      0.96      0.96       985\n",
      "           9       0.95      0.96      0.95      1013\n",
      "\n",
      "    accuracy                           0.97     10000\n",
      "   macro avg       0.97      0.97      0.97     10000\n",
      "weighted avg       0.97      0.97      0.97     10000\n",
      "\n",
      "Accuracy : 0.9669\n"
     ]
    }
   ],
   "source": [
    "acc_mlp = print_validation_report(y_val, pred_val_mlp)"
   ]
  },
  {
   "cell_type": "code",
   "execution_count": 41,
   "metadata": {
    "_uuid": "a535848bbfce597e6d669765a96ca51e42983338"
   },
   "outputs": [
    {
     "data": {
      "image/png": "[encoded data removed]",
      "text/plain": [
       "<Figure size 576x576 with 1 Axes>"
      ]
     },
     "metadata": {
      "needs_background": "light"
     },
     "output_type": "display_data"
    }
   ],
   "source": [
    "plot_confusion_matrix(y_val, pred_val_mlp)"
   ]
  },
  {
   "cell_type": "code",
   "execution_count": null,
   "metadata": {
    "_uuid": "097ae27f3bbfd09c5b1ba7d62f59282fca453087"
   },
   "outputs": [],
   "source": []
  },
  {
   "cell_type": "code",
   "execution_count": null,
   "metadata": {
    "_uuid": "b4a55bacaddeed8be4b5ebdb6f6144558a1ab478"
   },
   "outputs": [],
   "source": []
  },
  {
   "cell_type": "markdown",
   "metadata": {
    "_uuid": "143c1fb5c6bc3717dc777320e3f7dcce7d4c0ac3"
   },
   "source": [
    "# Part 3: NN Classifiers with Keras"
   ]
  },
  {
   "cell_type": "code",
   "execution_count": 42,
   "metadata": {
    "_uuid": "470be43f625218e38f19c27bb36e8b05f3e12eef"
   },
   "outputs": [],
   "source": [
    "y_train = to_categorical(y_train, 10)\n",
    "y_val_10 = to_categorical(y_val, 10)"
   ]
  },
  {
   "cell_type": "markdown",
   "metadata": {
    "_uuid": "16450c1055090761ba1bf1ab7f15f4fbbee6322b"
   },
   "source": [
    "## 3.1 Fully-Connected Neural Networks  \n",
    "dense layers : every node is connected to every other node in the next layer"
   ]
  },
  {
   "cell_type": "markdown",
   "metadata": {
    "_uuid": "3c484e94988c360c58c7b740c84f6cd679a70f9d"
   },
   "source": [
    "### 3.1.1 Keras: only input and output layer"
   ]
  },
  {
   "cell_type": "code",
   "execution_count": 43,
   "metadata": {
    "_uuid": "fc358789c6fbf0c32509647e895fa6d52d2c23d6"
   },
   "outputs": [],
   "source": [
    "def dense_model_0():\n",
    "    model = Sequential()\n",
    "    model.add(Dense(10, input_dim=784, activation='softmax'))\n",
    "    model.compile(loss='categorical_crossentropy', optimizer='adam', metrics=['accuracy'])\n",
    "    return model"
   ]
  },
  {
   "cell_type": "code",
   "execution_count": 44,
   "metadata": {
    "_uuid": "48a5a62896ef961e959086b8450c3f9212db1302"
   },
   "outputs": [
    {
     "name": "stdout",
     "output_type": "stream",
     "text": [
      "Model: \"sequential\"\n",
      "_________________________________________________________________\n",
      "Layer (type)                 Output Shape              Param #   \n",
      "=================================================================\n",
      "dense (Dense)                (None, 10)                7850      \n",
      "=================================================================\n",
      "Total params: 7,850\n",
      "Trainable params: 7,850\n",
      "Non-trainable params: 0\n",
      "_________________________________________________________________\n"
     ]
    },
    {
     "name": "stderr",
     "output_type": "stream",
     "text": [
      "2021-09-01 10:38:19.506413: I tensorflow/core/platform/cpu_feature_guard.cc:142] This TensorFlow binary is optimized with oneAPI Deep Neural Network Library (oneDNN) to use the following CPU instructions in performance-critical operations:  SSE4.1 SSE4.2 AVX AVX2 FMA\n",
      "To enable them in other operations, rebuild TensorFlow with the appropriate compiler flags.\n"
     ]
    }
   ],
   "source": [
    "model_dense_0 = dense_model_0()\n",
    "model_dense_0.summary()"
   ]
  },
  {
   "cell_type": "code",
   "execution_count": 45,
   "metadata": {
    "_kg_hide-output": true,
    "_uuid": "ffacc9b33d66d05f52dd2f45889ebe9b0478ad35"
   },
   "outputs": [
    {
     "name": "stderr",
     "output_type": "stream",
     "text": [
      "2021-09-01 10:38:19.780171: I tensorflow/compiler/mlir/mlir_graph_optimization_pass.cc:116] None of the MLIR optimization passes are enabled (registered 2)\n"
     ]
    },
    {
     "name": "stdout",
     "output_type": "stream",
     "text": [
      "Epoch 1/50\n",
      "15/15 [==============================] - 0s 7ms/step - loss: 2.2320 - accuracy: 0.1855\n",
      "Epoch 2/50\n",
      "15/15 [==============================] - 0s 7ms/step - loss: 1.6337 - accuracy: 0.6121\n",
      "Epoch 3/50\n",
      "15/15 [==============================] - 0s 8ms/step - loss: 1.2507 - accuracy: 0.7544\n",
      "Epoch 4/50\n",
      "15/15 [==============================] - 0s 7ms/step - loss: 1.0214 - accuracy: 0.7950\n",
      "Epoch 5/50\n",
      "15/15 [==============================] - 0s 8ms/step - loss: 0.8692 - accuracy: 0.8208\n",
      "Epoch 6/50\n",
      "15/15 [==============================] - 0s 8ms/step - loss: 0.7699 - accuracy: 0.8381\n",
      "Epoch 7/50\n",
      "15/15 [==============================] - 0s 8ms/step - loss: 0.7063 - accuracy: 0.8451\n",
      "Epoch 8/50\n",
      "15/15 [==============================] - 0s 8ms/step - loss: 0.6471 - accuracy: 0.8570\n",
      "Epoch 9/50\n",
      "15/15 [==============================] - 0s 7ms/step - loss: 0.6040 - accuracy: 0.8649\n",
      "Epoch 10/50\n",
      "15/15 [==============================] - 0s 8ms/step - loss: 0.5752 - accuracy: 0.8674\n",
      "Epoch 11/50\n",
      "15/15 [==============================] - 0s 8ms/step - loss: 0.5448 - accuracy: 0.8736\n",
      "Epoch 12/50\n",
      "15/15 [==============================] - 0s 7ms/step - loss: 0.5207 - accuracy: 0.8770\n",
      "Epoch 13/50\n",
      "15/15 [==============================] - 0s 8ms/step - loss: 0.5041 - accuracy: 0.8790\n",
      "Epoch 14/50\n",
      "15/15 [==============================] - 0s 7ms/step - loss: 0.4789 - accuracy: 0.8860\n",
      "Epoch 15/50\n",
      "15/15 [==============================] - 0s 7ms/step - loss: 0.4655 - accuracy: 0.8867\n",
      "Epoch 16/50\n",
      "15/15 [==============================] - 0s 7ms/step - loss: 0.4582 - accuracy: 0.8877\n",
      "Epoch 17/50\n",
      "15/15 [==============================] - 0s 8ms/step - loss: 0.4416 - accuracy: 0.8900\n",
      "Epoch 18/50\n",
      "15/15 [==============================] - 0s 7ms/step - loss: 0.4302 - accuracy: 0.8934\n",
      "Epoch 19/50\n",
      "15/15 [==============================] - 0s 7ms/step - loss: 0.4222 - accuracy: 0.8941\n",
      "Epoch 20/50\n",
      "15/15 [==============================] - 0s 7ms/step - loss: 0.4139 - accuracy: 0.8956\n",
      "Epoch 21/50\n",
      "15/15 [==============================] - 0s 7ms/step - loss: 0.3978 - accuracy: 0.8995\n",
      "Epoch 22/50\n",
      "15/15 [==============================] - 0s 7ms/step - loss: 0.3987 - accuracy: 0.8980\n",
      "Epoch 23/50\n",
      "15/15 [==============================] - 0s 8ms/step - loss: 0.3941 - accuracy: 0.8983\n",
      "Epoch 24/50\n",
      "15/15 [==============================] - 0s 7ms/step - loss: 0.3875 - accuracy: 0.9010\n",
      "Epoch 25/50\n",
      "15/15 [==============================] - 0s 8ms/step - loss: 0.3767 - accuracy: 0.9019\n",
      "Epoch 26/50\n",
      "15/15 [==============================] - 0s 8ms/step - loss: 0.3702 - accuracy: 0.9053\n",
      "Epoch 27/50\n",
      "15/15 [==============================] - 0s 7ms/step - loss: 0.3672 - accuracy: 0.9053\n",
      "Epoch 28/50\n",
      "15/15 [==============================] - 0s 8ms/step - loss: 0.3628 - accuracy: 0.9061\n",
      "Epoch 29/50\n",
      "15/15 [==============================] - 0s 8ms/step - loss: 0.3608 - accuracy: 0.9072\n",
      "Epoch 30/50\n",
      "15/15 [==============================] - 0s 7ms/step - loss: 0.3483 - accuracy: 0.9111\n",
      "Epoch 31/50\n",
      "15/15 [==============================] - 0s 7ms/step - loss: 0.3583 - accuracy: 0.9067\n",
      "Epoch 32/50\n",
      "15/15 [==============================] - 0s 8ms/step - loss: 0.3512 - accuracy: 0.9088\n",
      "Epoch 33/50\n",
      "15/15 [==============================] - 0s 7ms/step - loss: 0.3441 - accuracy: 0.9121\n",
      "Epoch 34/50\n",
      "15/15 [==============================] - 0s 7ms/step - loss: 0.3394 - accuracy: 0.9114\n",
      "Epoch 35/50\n",
      "15/15 [==============================] - 0s 8ms/step - loss: 0.3379 - accuracy: 0.9111\n",
      "Epoch 36/50\n",
      "15/15 [==============================] - 0s 8ms/step - loss: 0.3353 - accuracy: 0.9127\n",
      "Epoch 37/50\n",
      "15/15 [==============================] - 0s 8ms/step - loss: 0.3300 - accuracy: 0.9134\n",
      "Epoch 38/50\n",
      "15/15 [==============================] - 0s 8ms/step - loss: 0.3317 - accuracy: 0.9126\n",
      "Epoch 39/50\n",
      "15/15 [==============================] - 0s 6ms/step - loss: 0.3255 - accuracy: 0.9143\n",
      "Epoch 40/50\n",
      "15/15 [==============================] - 0s 8ms/step - loss: 0.3300 - accuracy: 0.9133\n",
      "Epoch 41/50\n",
      "15/15 [==============================] - 0s 7ms/step - loss: 0.3290 - accuracy: 0.9138\n",
      "Epoch 42/50\n",
      "15/15 [==============================] - 0s 6ms/step - loss: 0.3225 - accuracy: 0.9145\n",
      "Epoch 43/50\n",
      "15/15 [==============================] - 0s 8ms/step - loss: 0.3203 - accuracy: 0.9150\n",
      "Epoch 44/50\n",
      "15/15 [==============================] - 0s 7ms/step - loss: 0.3163 - accuracy: 0.9168\n",
      "Epoch 45/50\n",
      "15/15 [==============================] - 0s 8ms/step - loss: 0.3093 - accuracy: 0.9186\n",
      "Epoch 46/50\n",
      "15/15 [==============================] - 0s 7ms/step - loss: 0.3123 - accuracy: 0.9172\n",
      "Epoch 47/50\n",
      "15/15 [==============================] - 0s 7ms/step - loss: 0.3059 - accuracy: 0.9177\n",
      "Epoch 48/50\n",
      "15/15 [==============================] - 0s 7ms/step - loss: 0.3081 - accuracy: 0.9177\n",
      "Epoch 49/50\n",
      "15/15 [==============================] - 0s 6ms/step - loss: 0.3108 - accuracy: 0.9166\n",
      "Epoch 50/50\n",
      "15/15 [==============================] - 0s 7ms/step - loss: 0.3087 - accuracy: 0.9182\n"
     ]
    },
    {
     "data": {
      "text/plain": [
       "<tensorflow.python.keras.callbacks.History at 0x18d25d1f0>"
      ]
     },
     "execution_count": 45,
     "metadata": {},
     "output_type": "execute_result"
    }
   ],
   "source": [
    "model_dense_0.fit(X_train, y_train, epochs=50, batch_size=batchsize)"
   ]
  },
  {
   "cell_type": "code",
   "execution_count": 46,
   "metadata": {
    "_uuid": "6d6ff3ada3417c10d34f1ededd39767e917981c3"
   },
   "outputs": [
    {
     "name": "stderr",
     "output_type": "stream",
     "text": [
      "/usr/local/Caskroom/mambaforge/base/envs/ads/lib/python3.9/site-packages/tensorflow/python/keras/engine/sequential.py:450: UserWarning:\n",
      "\n",
      "`model.predict_classes()` is deprecated and will be removed after 2021-01-01. Please use instead:* `np.argmax(model.predict(x), axis=-1)`,   if your model does multi-class classification   (e.g. if it uses a `softmax` last-layer activation).* `(model.predict(x) > 0.5).astype(\"int32\")`,   if your model does binary classification   (e.g. if it uses a `sigmoid` last-layer activation).\n",
      "\n"
     ]
    }
   ],
   "source": [
    "pred_val_dense0 = model_dense_0.predict_classes(X_val)"
   ]
  },
  {
   "cell_type": "code",
   "execution_count": 47,
   "metadata": {
    "_uuid": "f55b909222491635ae3d91fb5b7900bbc2bd1e04"
   },
   "outputs": [
    {
     "name": "stdout",
     "output_type": "stream",
     "text": [
      "Classification Report\n",
      "              precision    recall  f1-score   support\n",
      "\n",
      "           0       0.95      0.96      0.96       963\n",
      "           1       0.94      0.96      0.95      1140\n",
      "           2       0.92      0.88      0.90       995\n",
      "           3       0.89      0.88      0.89      1008\n",
      "           4       0.91      0.92      0.91       983\n",
      "           5       0.86      0.83      0.84       895\n",
      "           6       0.94      0.94      0.94      1000\n",
      "           7       0.92      0.90      0.91      1018\n",
      "           8       0.85      0.88      0.87       985\n",
      "           9       0.86      0.89      0.88      1013\n",
      "\n",
      "    accuracy                           0.91     10000\n",
      "   macro avg       0.91      0.90      0.90     10000\n",
      "weighted avg       0.91      0.91      0.91     10000\n",
      "\n",
      "Accuracy : 0.9058\n"
     ]
    }
   ],
   "source": [
    "acc_fc0 = print_validation_report(y_val, pred_val_dense0)"
   ]
  },
  {
   "cell_type": "code",
   "execution_count": 48,
   "metadata": {
    "_uuid": "75140ffcb2a90a14caf9c1c5dd280dca80a12a24"
   },
   "outputs": [
    {
     "data": {
      "image/png": "[encoded data removed]",
      "text/plain": [
       "<Figure size 576x576 with 1 Axes>"
      ]
     },
     "metadata": {
      "needs_background": "light"
     },
     "output_type": "display_data"
    }
   ],
   "source": [
    "plot_confusion_matrix(y_val, pred_val_dense0)"
   ]
  },
  {
   "cell_type": "code",
   "execution_count": null,
   "metadata": {
    "_uuid": "c932a17421c381b2457aef0799fd19a57da1e6a5"
   },
   "outputs": [],
   "source": []
  },
  {
   "cell_type": "markdown",
   "metadata": {
    "_uuid": "b01e3e51fba907baa34d4aafbde9f8715b9e201e"
   },
   "source": [
    "### Keras: 1 hidden layer"
   ]
  },
  {
   "cell_type": "code",
   "execution_count": 49,
   "metadata": {
    "_uuid": "73b54c77ec3ec628e4ccf9e6c44754a00b16cfea"
   },
   "outputs": [],
   "source": [
    "def dense_model_1():\n",
    "    model = Sequential()\n",
    "    model.add(Dense(100, input_dim=784, activation='relu'))\n",
    "    model.add(Dense(10, activation='softmax'))\n",
    "    model.compile(loss='categorical_crossentropy', optimizer='adam', metrics=['accuracy'])\n",
    "    return model"
   ]
  },
  {
   "cell_type": "code",
   "execution_count": 50,
   "metadata": {
    "_uuid": "a87ca19fa6dc47a415743eb17e42612d2fcfc5de"
   },
   "outputs": [
    {
     "name": "stdout",
     "output_type": "stream",
     "text": [
      "Model: \"sequential_1\"\n",
      "_________________________________________________________________\n",
      "Layer (type)                 Output Shape              Param #   \n",
      "=================================================================\n",
      "dense_1 (Dense)              (None, 100)               78500     \n",
      "_________________________________________________________________\n",
      "dense_2 (Dense)              (None, 10)                1010      \n",
      "=================================================================\n",
      "Total params: 79,510\n",
      "Trainable params: 79,510\n",
      "Non-trainable params: 0\n",
      "_________________________________________________________________\n"
     ]
    }
   ],
   "source": [
    "model_dense_1 = dense_model_1()\n",
    "model_dense_1.summary()"
   ]
  },
  {
   "cell_type": "code",
   "execution_count": 51,
   "metadata": {
    "_kg_hide-output": true,
    "_uuid": "a2587a85de2ebf23a894c8e32fc108dc6e1544fc"
   },
   "outputs": [
    {
     "name": "stdout",
     "output_type": "stream",
     "text": [
      "Epoch 1/50\n",
      "15/15 [==============================] - 2s 102ms/step - loss: 1.9951 - accuracy: 0.3494 - val_loss: 1.0698 - val_accuracy: 0.7631\n",
      "Epoch 2/50\n",
      "15/15 [==============================] - 0s 18ms/step - loss: 0.8793 - accuracy: 0.8035 - val_loss: 0.5991 - val_accuracy: 0.8468\n",
      "Epoch 3/50\n",
      "15/15 [==============================] - 0s 18ms/step - loss: 0.5311 - accuracy: 0.8600 - val_loss: 0.4583 - val_accuracy: 0.8741\n",
      "Epoch 4/50\n",
      "15/15 [==============================] - 0s 18ms/step - loss: 0.4106 - accuracy: 0.8874 - val_loss: 0.3959 - val_accuracy: 0.8903\n",
      "Epoch 5/50\n",
      "15/15 [==============================] - 0s 19ms/step - loss: 0.3644 - accuracy: 0.8997 - val_loss: 0.3595 - val_accuracy: 0.9017\n",
      "Epoch 6/50\n",
      "15/15 [==============================] - 0s 18ms/step - loss: 0.3255 - accuracy: 0.9121 - val_loss: 0.3341 - val_accuracy: 0.9065\n",
      "Epoch 7/50\n",
      "15/15 [==============================] - 0s 19ms/step - loss: 0.2986 - accuracy: 0.9186 - val_loss: 0.3158 - val_accuracy: 0.9094\n",
      "Epoch 8/50\n",
      "15/15 [==============================] - 0s 18ms/step - loss: 0.2752 - accuracy: 0.9251 - val_loss: 0.2995 - val_accuracy: 0.9142\n",
      "Epoch 9/50\n",
      "15/15 [==============================] - 0s 20ms/step - loss: 0.2575 - accuracy: 0.9324 - val_loss: 0.2857 - val_accuracy: 0.9190\n",
      "Epoch 10/50\n",
      "15/15 [==============================] - 0s 18ms/step - loss: 0.2454 - accuracy: 0.9330 - val_loss: 0.2735 - val_accuracy: 0.9224\n",
      "Epoch 11/50\n",
      "15/15 [==============================] - 0s 18ms/step - loss: 0.2373 - accuracy: 0.9370 - val_loss: 0.2639 - val_accuracy: 0.9257\n",
      "Epoch 12/50\n",
      "15/15 [==============================] - 0s 20ms/step - loss: 0.2189 - accuracy: 0.9409 - val_loss: 0.2542 - val_accuracy: 0.9283\n",
      "Epoch 13/50\n",
      "15/15 [==============================] - 0s 19ms/step - loss: 0.2142 - accuracy: 0.9404 - val_loss: 0.2458 - val_accuracy: 0.9287\n",
      "Epoch 14/50\n",
      "15/15 [==============================] - 0s 18ms/step - loss: 0.2086 - accuracy: 0.9428 - val_loss: 0.2378 - val_accuracy: 0.9316\n",
      "Epoch 15/50\n",
      "15/15 [==============================] - 0s 18ms/step - loss: 0.1948 - accuracy: 0.9473 - val_loss: 0.2321 - val_accuracy: 0.9334\n",
      "Epoch 16/50\n",
      "15/15 [==============================] - 0s 20ms/step - loss: 0.1915 - accuracy: 0.9473 - val_loss: 0.2239 - val_accuracy: 0.9363\n",
      "Epoch 17/50\n",
      "15/15 [==============================] - 0s 20ms/step - loss: 0.1831 - accuracy: 0.9485 - val_loss: 0.2192 - val_accuracy: 0.9383\n",
      "Epoch 18/50\n",
      "15/15 [==============================] - 0s 19ms/step - loss: 0.1795 - accuracy: 0.9510 - val_loss: 0.2123 - val_accuracy: 0.9402\n",
      "Epoch 19/50\n",
      "15/15 [==============================] - 0s 19ms/step - loss: 0.1657 - accuracy: 0.9539 - val_loss: 0.2083 - val_accuracy: 0.9412\n",
      "Epoch 20/50\n",
      "15/15 [==============================] - 0s 20ms/step - loss: 0.1571 - accuracy: 0.9558 - val_loss: 0.2044 - val_accuracy: 0.9416\n",
      "Epoch 21/50\n",
      "15/15 [==============================] - 0s 19ms/step - loss: 0.1509 - accuracy: 0.9585 - val_loss: 0.1989 - val_accuracy: 0.9452\n",
      "Epoch 22/50\n",
      "15/15 [==============================] - 0s 19ms/step - loss: 0.1483 - accuracy: 0.9591 - val_loss: 0.1953 - val_accuracy: 0.9450\n",
      "Epoch 23/50\n",
      "15/15 [==============================] - 0s 19ms/step - loss: 0.1431 - accuracy: 0.9621 - val_loss: 0.1919 - val_accuracy: 0.9465\n",
      "Epoch 24/50\n",
      "15/15 [==============================] - 0s 19ms/step - loss: 0.1443 - accuracy: 0.9616 - val_loss: 0.1876 - val_accuracy: 0.9474\n",
      "Epoch 25/50\n",
      "15/15 [==============================] - 0s 19ms/step - loss: 0.1364 - accuracy: 0.9628 - val_loss: 0.1850 - val_accuracy: 0.9481\n",
      "Epoch 26/50\n",
      "15/15 [==============================] - 0s 18ms/step - loss: 0.1325 - accuracy: 0.9636 - val_loss: 0.1813 - val_accuracy: 0.9491\n",
      "Epoch 27/50\n",
      "15/15 [==============================] - 0s 19ms/step - loss: 0.1297 - accuracy: 0.9652 - val_loss: 0.1783 - val_accuracy: 0.9489\n",
      "Epoch 28/50\n",
      "15/15 [==============================] - 0s 19ms/step - loss: 0.1233 - accuracy: 0.9657 - val_loss: 0.1765 - val_accuracy: 0.9501\n",
      "Epoch 29/50\n",
      "15/15 [==============================] - 0s 20ms/step - loss: 0.1182 - accuracy: 0.9681 - val_loss: 0.1747 - val_accuracy: 0.9500\n",
      "Epoch 30/50\n",
      "15/15 [==============================] - 0s 18ms/step - loss: 0.1141 - accuracy: 0.9698 - val_loss: 0.1721 - val_accuracy: 0.9515\n",
      "Epoch 31/50\n",
      "15/15 [==============================] - 0s 19ms/step - loss: 0.1085 - accuracy: 0.9715 - val_loss: 0.1699 - val_accuracy: 0.9509\n",
      "Epoch 32/50\n",
      "15/15 [==============================] - 0s 19ms/step - loss: 0.1129 - accuracy: 0.9700 - val_loss: 0.1670 - val_accuracy: 0.9521\n",
      "Epoch 33/50\n",
      "15/15 [==============================] - 0s 19ms/step - loss: 0.1087 - accuracy: 0.9716 - val_loss: 0.1653 - val_accuracy: 0.9523\n",
      "Epoch 34/50\n",
      "15/15 [==============================] - 0s 19ms/step - loss: 0.1041 - accuracy: 0.9718 - val_loss: 0.1628 - val_accuracy: 0.9538\n",
      "Epoch 35/50\n",
      "15/15 [==============================] - 0s 21ms/step - loss: 0.1027 - accuracy: 0.9741 - val_loss: 0.1614 - val_accuracy: 0.9539\n",
      "Epoch 36/50\n",
      "15/15 [==============================] - 0s 18ms/step - loss: 0.0949 - accuracy: 0.9755 - val_loss: 0.1605 - val_accuracy: 0.9545\n",
      "Epoch 37/50\n",
      "15/15 [==============================] - 0s 18ms/step - loss: 0.0984 - accuracy: 0.9740 - val_loss: 0.1616 - val_accuracy: 0.9534\n",
      "Epoch 38/50\n",
      "15/15 [==============================] - 0s 18ms/step - loss: 0.0938 - accuracy: 0.9755 - val_loss: 0.1575 - val_accuracy: 0.9543\n",
      "Epoch 39/50\n",
      "15/15 [==============================] - 0s 19ms/step - loss: 0.0916 - accuracy: 0.9767 - val_loss: 0.1559 - val_accuracy: 0.9550\n",
      "Epoch 40/50\n",
      "15/15 [==============================] - 0s 18ms/step - loss: 0.0900 - accuracy: 0.9761 - val_loss: 0.1556 - val_accuracy: 0.9565\n",
      "Epoch 41/50\n",
      "15/15 [==============================] - 0s 18ms/step - loss: 0.0851 - accuracy: 0.9783 - val_loss: 0.1531 - val_accuracy: 0.9570\n",
      "Epoch 42/50\n",
      "15/15 [==============================] - 0s 18ms/step - loss: 0.0823 - accuracy: 0.9788 - val_loss: 0.1519 - val_accuracy: 0.9568\n",
      "Epoch 43/50\n",
      "15/15 [==============================] - 0s 19ms/step - loss: 0.0812 - accuracy: 0.9795 - val_loss: 0.1510 - val_accuracy: 0.9569\n",
      "Epoch 44/50\n",
      "15/15 [==============================] - 0s 19ms/step - loss: 0.0784 - accuracy: 0.9792 - val_loss: 0.1502 - val_accuracy: 0.9560\n",
      "Epoch 45/50\n",
      "15/15 [==============================] - 0s 19ms/step - loss: 0.0773 - accuracy: 0.9806 - val_loss: 0.1504 - val_accuracy: 0.9576\n",
      "Epoch 46/50\n",
      "15/15 [==============================] - 0s 18ms/step - loss: 0.0735 - accuracy: 0.9811 - val_loss: 0.1491 - val_accuracy: 0.9567\n",
      "Epoch 47/50\n",
      "15/15 [==============================] - 0s 18ms/step - loss: 0.0697 - accuracy: 0.9831 - val_loss: 0.1473 - val_accuracy: 0.9584\n",
      "Epoch 48/50\n",
      "15/15 [==============================] - 0s 16ms/step - loss: 0.0723 - accuracy: 0.9816 - val_loss: 0.1464 - val_accuracy: 0.9584\n",
      "Epoch 49/50\n",
      "15/15 [==============================] - 0s 18ms/step - loss: 0.0687 - accuracy: 0.9828 - val_loss: 0.1457 - val_accuracy: 0.9593\n",
      "Epoch 50/50\n",
      "15/15 [==============================] - 0s 16ms/step - loss: 0.0704 - accuracy: 0.9824 - val_loss: 0.1453 - val_accuracy: 0.9590\n"
     ]
    }
   ],
   "source": [
    "history_dense_1 = model_dense_1.fit(X_train, y_train, validation_data=(X_val,y_val_10), \n",
    "                                    epochs=50, batch_size=batchsize)"
   ]
  },
  {
   "cell_type": "code",
   "execution_count": 52,
   "metadata": {
    "_uuid": "4d359f79d899cb8c42cd5c39d045846bfbc233c6"
   },
   "outputs": [
    {
     "ename": "KeyError",
     "evalue": "'acc'",
     "output_type": "error",
     "traceback": [
      "\u001b[0;31m---------------------------------------------------------------------------\u001b[0m",
      "\u001b[0;31mKeyError\u001b[0m                                  Traceback (most recent call last)",
      "\u001b[0;32m/var/folders/n3/c3f8czzj2d94v7tss2211g380000gn/T/ipykernel_95154/3966598174.py\u001b[0m in \u001b[0;36m<module>\u001b[0;34m\u001b[0m\n\u001b[0;32m----> 1\u001b[0;31m \u001b[0mplot_history_loss_and_acc\u001b[0m\u001b[0;34m(\u001b[0m\u001b[0mhistory_dense_1\u001b[0m\u001b[0;34m)\u001b[0m\u001b[0;34m\u001b[0m\u001b[0;34m\u001b[0m\u001b[0m\n\u001b[0m",
      "\u001b[0;32m/var/folders/n3/c3f8czzj2d94v7tss2211g380000gn/T/ipykernel_95154/3049152573.py\u001b[0m in \u001b[0;36mplot_history_loss_and_acc\u001b[0;34m(history_keras_nn)\u001b[0m\n\u001b[1;32m     10\u001b[0m     \u001b[0maxs\u001b[0m\u001b[0;34m[\u001b[0m\u001b[0;36m0\u001b[0m\u001b[0;34m]\u001b[0m\u001b[0;34m.\u001b[0m\u001b[0mlegend\u001b[0m\u001b[0;34m(\u001b[0m\u001b[0;34m[\u001b[0m\u001b[0;34m'train'\u001b[0m\u001b[0;34m,\u001b[0m \u001b[0;34m'validation'\u001b[0m\u001b[0;34m]\u001b[0m\u001b[0;34m,\u001b[0m \u001b[0mloc\u001b[0m\u001b[0;34m=\u001b[0m\u001b[0;34m'upper left'\u001b[0m\u001b[0;34m)\u001b[0m\u001b[0;34m\u001b[0m\u001b[0;34m\u001b[0m\u001b[0m\n\u001b[1;32m     11\u001b[0m \u001b[0;34m\u001b[0m\u001b[0m\n\u001b[0;32m---> 12\u001b[0;31m     \u001b[0maxs\u001b[0m\u001b[0;34m[\u001b[0m\u001b[0;36m1\u001b[0m\u001b[0;34m]\u001b[0m\u001b[0;34m.\u001b[0m\u001b[0mplot\u001b[0m\u001b[0;34m(\u001b[0m\u001b[0mhistory_keras_nn\u001b[0m\u001b[0;34m.\u001b[0m\u001b[0mhistory\u001b[0m\u001b[0;34m[\u001b[0m\u001b[0;34m'acc'\u001b[0m\u001b[0;34m]\u001b[0m\u001b[0;34m)\u001b[0m\u001b[0;34m\u001b[0m\u001b[0;34m\u001b[0m\u001b[0m\n\u001b[0m\u001b[1;32m     13\u001b[0m     \u001b[0maxs\u001b[0m\u001b[0;34m[\u001b[0m\u001b[0;36m1\u001b[0m\u001b[0;34m]\u001b[0m\u001b[0;34m.\u001b[0m\u001b[0mplot\u001b[0m\u001b[0;34m(\u001b[0m\u001b[0mhistory_keras_nn\u001b[0m\u001b[0;34m.\u001b[0m\u001b[0mhistory\u001b[0m\u001b[0;34m[\u001b[0m\u001b[0;34m'val_acc'\u001b[0m\u001b[0;34m]\u001b[0m\u001b[0;34m)\u001b[0m\u001b[0;34m\u001b[0m\u001b[0;34m\u001b[0m\u001b[0m\n\u001b[1;32m     14\u001b[0m     \u001b[0maxs\u001b[0m\u001b[0;34m[\u001b[0m\u001b[0;36m1\u001b[0m\u001b[0;34m]\u001b[0m\u001b[0;34m.\u001b[0m\u001b[0mset_title\u001b[0m\u001b[0;34m(\u001b[0m\u001b[0;34m'model accuracy'\u001b[0m\u001b[0;34m)\u001b[0m\u001b[0;34m\u001b[0m\u001b[0;34m\u001b[0m\u001b[0m\n",
      "\u001b[0;31mKeyError\u001b[0m: 'acc'"
     ]
    },
    {
     "data": {
      "image/png": "[encoded data removed]",
      "text/plain": [
       "<Figure size 864x288 with 2 Axes>"
      ]
     },
     "metadata": {
      "needs_background": "light"
     },
     "output_type": "display_data"
    }
   ],
   "source": [
    "plot_history_loss_and_acc(history_dense_1)"
   ]
  },
  {
   "cell_type": "code",
   "execution_count": null,
   "metadata": {
    "_uuid": "5c90f70cc1503464de85adf5a93393e2e69ea687"
   },
   "outputs": [],
   "source": [
    "pred_val_dense1 = model_dense_1.predict_classes(X_val)\n",
    "plot_confusion_matrix(y_val, pred_val_dense1)\n",
    "print(classification_report(y_val, pred_val_dense1))\n",
    "acc_fc1 = accuracy_score(y_val, pred_val_dense1)\n",
    "print(acc_fc1)"
   ]
  },
  {
   "cell_type": "code",
   "execution_count": null,
   "metadata": {
    "_uuid": "7e1eab41f877a4589e58bb668f7e421d9240f352"
   },
   "outputs": [],
   "source": []
  },
  {
   "cell_type": "markdown",
   "metadata": {
    "_uuid": "811d096ef0c9ff6a9f43dd6efd456999cb3bc1a6"
   },
   "source": [
    "### Keras: 2 hidden layers"
   ]
  },
  {
   "cell_type": "code",
   "execution_count": null,
   "metadata": {
    "_uuid": "77cad84ecaf24475533a22c046ff7530da157337"
   },
   "outputs": [],
   "source": [
    "def dense_model_2():\n",
    "    model = Sequential()\n",
    "    model.add(Dense(100, input_dim=784, activation='relu'))\n",
    "    model.add(Dense(200, activation='relu'))\n",
    "    model.add(Dense(10, activation='softmax'))\n",
    "    model.compile(loss='categorical_crossentropy', optimizer='adam', metrics=['accuracy'])\n",
    "    return model"
   ]
  },
  {
   "cell_type": "code",
   "execution_count": null,
   "metadata": {
    "_uuid": "576a5bc338ac468bb363a0f0d3c9a153cd0c733e"
   },
   "outputs": [],
   "source": [
    "model_dense_2 = dense_model_2()\n",
    "model_dense_2.summary()"
   ]
  },
  {
   "cell_type": "code",
   "execution_count": null,
   "metadata": {
    "_kg_hide-output": true,
    "_uuid": "8647769ac840d15de38114d9820586277591b2f1",
    "scrolled": false
   },
   "outputs": [],
   "source": [
    "history_dense_2 = model_dense_2.fit(X_train, y_train, validation_data=(X_val,y_val_10), \n",
    "                                    epochs=50, batch_size=batchsize)"
   ]
  },
  {
   "cell_type": "code",
   "execution_count": null,
   "metadata": {
    "_uuid": "06588fc9807fff9f3052853a356ef705ca33d4ca"
   },
   "outputs": [],
   "source": [
    "plot_history_loss_and_acc(history_dense_2)"
   ]
  },
  {
   "cell_type": "code",
   "execution_count": null,
   "metadata": {
    "_uuid": "8fc16105c3463f70b16ede4ce2baa656ae066f5b"
   },
   "outputs": [],
   "source": [
    "pred_val_dense2 = model_dense_2.predict_classes(X_val)\n",
    "plot_confusion_matrix(y_val, pred_val_dense2)\n",
    "print(classification_report(y_val, pred_val_dense2))\n",
    "acc_fc2 = accuracy_score(y_val, pred_val_dense2)\n",
    "print(acc_fc2)"
   ]
  },
  {
   "cell_type": "code",
   "execution_count": null,
   "metadata": {
    "_uuid": "6114bf8e74a07dd1ee491cec48c4a2108baec72b"
   },
   "outputs": [],
   "source": []
  },
  {
   "cell_type": "markdown",
   "metadata": {
    "_uuid": "df592740e70fa6b82ddd044002ed407016b9fe97"
   },
   "source": [
    "### Keras: 3 hidden layers"
   ]
  },
  {
   "cell_type": "code",
   "execution_count": null,
   "metadata": {
    "_uuid": "5a7e7c7b7b79894988a3955eefc60a4610dff5a3"
   },
   "outputs": [],
   "source": [
    "def dense_model_3():\n",
    "    \n",
    "    model = Sequential()  \n",
    "    model.add(Dense(100, activation='relu', input_dim=784))\n",
    "    model.add(Dense(200, activation='relu')) \n",
    "    model.add(Dense(100, activation='relu')) \n",
    "    model.add(Dense(10, activation='softmax'))\n",
    "         \n",
    "    model.compile(loss='categorical_crossentropy', optimizer='adam', metrics=['accuracy'])\n",
    "    \n",
    "    #model.compile(optimizer=RMSprop(lr=0.001),\n",
    "    #         loss='categorical_crossentropy',\n",
    "    #         metrics=['accuracy'])\n",
    "    \n",
    "    return model"
   ]
  },
  {
   "cell_type": "code",
   "execution_count": null,
   "metadata": {
    "_uuid": "074df37093573fe1d0b82902608c1cdc60f46fbb"
   },
   "outputs": [],
   "source": [
    "model_dense_3 = dense_model_3()\n",
    "model_dense_3.summary()"
   ]
  },
  {
   "cell_type": "code",
   "execution_count": null,
   "metadata": {
    "_kg_hide-output": true,
    "_uuid": "c84be17854c5a36bdaab946a6e78ad978f6733fa"
   },
   "outputs": [],
   "source": [
    "history_dense_3 = model_dense_3.fit(X_train, y_train, validation_data=(X_val,y_val_10), \n",
    "                                    epochs=50, batch_size=batchsize)"
   ]
  },
  {
   "cell_type": "code",
   "execution_count": null,
   "metadata": {
    "_uuid": "abcb580d09c4f6df6b592a9eaf8c02306033fe73"
   },
   "outputs": [],
   "source": [
    "plot_history_loss_and_acc(history_dense_3)"
   ]
  },
  {
   "cell_type": "code",
   "execution_count": null,
   "metadata": {
    "_uuid": "15639f762176cbb6d6d1ac69836355491ccb4b9d"
   },
   "outputs": [],
   "source": [
    "pred_val_dense3 = model_dense_3.predict_classes(X_val)\n",
    "plot_confusion_matrix(y_val, pred_val_dense3)\n",
    "print(classification_report(y_val, pred_val_dense3))\n",
    "acc_fc3 = accuracy_score(y_val, pred_val_dense3)\n",
    "print(acc_fc3)"
   ]
  },
  {
   "cell_type": "code",
   "execution_count": null,
   "metadata": {
    "_uuid": "738eaed5f252286a9369896e371683ec42b86813"
   },
   "outputs": [],
   "source": []
  },
  {
   "cell_type": "markdown",
   "metadata": {
    "_uuid": "9a38a7511b03011c453cc5f0f7ba35a77dfb04f0"
   },
   "source": [
    "## 3.2 Keras : Convolutional Neural Networks, CNN"
   ]
  },
  {
   "cell_type": "markdown",
   "metadata": {
    "_uuid": "fe26d5c4ab3661208005e023026c623557df9e13"
   },
   "source": [
    "Convnets:  \n",
    "[Udacity](https://www.youtube.com/watch?v=jajksuQW4mc) "
   ]
  },
  {
   "cell_type": "code",
   "execution_count": null,
   "metadata": {
    "_uuid": "373be8132cf3e4b40c3e9e9a42b10c69caa9c472"
   },
   "outputs": [],
   "source": []
  },
  {
   "cell_type": "markdown",
   "metadata": {
    "_uuid": "a5233ad4dea6af705b60075c491ef21cf2bf7403"
   },
   "source": [
    "### **features : reshaping 1d vector to 2d images**\n",
    "\n",
    "(784) --> (28,28,1)"
   ]
  },
  {
   "cell_type": "code",
   "execution_count": null,
   "metadata": {
    "_uuid": "1f740d4ed4a06f9e1e2a13443e4d4075ccbcccb6"
   },
   "outputs": [],
   "source": [
    "X_train.shape"
   ]
  },
  {
   "cell_type": "code",
   "execution_count": null,
   "metadata": {
    "_uuid": "1426af50bb6ed93408b9350ebd3acdf98c52bc36"
   },
   "outputs": [],
   "source": [
    "X_train = X_train.values.reshape(X_train.shape[0], img_rows, img_cols, 1)\n",
    "X_val = X_val.values.reshape(X_val.shape[0], img_rows, img_cols, 1)\n",
    "\n",
    "input_shape = (img_rows, img_cols, 1)"
   ]
  },
  {
   "cell_type": "code",
   "execution_count": null,
   "metadata": {
    "_uuid": "f5b6926f5a25cedfc35862367b608524dad7c05c"
   },
   "outputs": [],
   "source": [
    "X_train.shape"
   ]
  },
  {
   "cell_type": "code",
   "execution_count": null,
   "metadata": {
    "_uuid": "a76db0b3da04ff3b7358cca60a6eeb155a81a2c3"
   },
   "outputs": [],
   "source": [
    "y_train.shape"
   ]
  },
  {
   "cell_type": "code",
   "execution_count": null,
   "metadata": {
    "_uuid": "26cd252615c013d2d560ea54a277504a0f59b42f"
   },
   "outputs": [],
   "source": []
  },
  {
   "cell_type": "markdown",
   "metadata": {
    "_uuid": "c64474f903a5389ea7c385156076ae532ca73105"
   },
   "source": [
    "## Keras: CNN model 1\n",
    "Conv2D (32, (3, 3))  \n",
    "Conv2D (64, (3, 3))  \n",
    "Pooling2D (2,2)  \n",
    "Dropout (0.25)\n",
    "Flatten  \n",
    "Dense(128, relu)  \n",
    "Dropout (0.5)  \n",
    "Dense(10, softmax)"
   ]
  },
  {
   "cell_type": "code",
   "execution_count": null,
   "metadata": {
    "_uuid": "4d4074066d9b6f38380dfaded0b43151f75406c8"
   },
   "outputs": [],
   "source": [
    "batchsize = 128\n",
    "epochs = 12"
   ]
  },
  {
   "cell_type": "code",
   "execution_count": null,
   "metadata": {
    "_uuid": "df839fc323bb17df0815fc012fec140db1689059"
   },
   "outputs": [],
   "source": [
    "activation = 'relu'\n",
    "adadelta = Adadelta()\n",
    "loss = categorical_crossentropy"
   ]
  },
  {
   "cell_type": "code",
   "execution_count": null,
   "metadata": {
    "_uuid": "ad9d406a087d879d27fcf33dc1a7412beb5044d6"
   },
   "outputs": [],
   "source": [
    "def cnn_model_1(activation):\n",
    "    \n",
    "    model = Sequential()\n",
    "    \n",
    "    model.add(Conv2D(32, kernel_size=(3, 3), activation=activation, input_shape=input_shape)) \n",
    "    \n",
    "    model.add(Conv2D(64, (3, 3), activation=activation))\n",
    "    model.add(MaxPooling2D(pool_size=(2, 2)))\n",
    "    model.add(Dropout(0.25))\n",
    " \n",
    "    model.add(Flatten())\n",
    "\n",
    "    model.add(Dense(128, activation=activation))\n",
    "    model.add(Dropout(0.5))\n",
    "\n",
    "    model.add(Dense(10, activation='softmax'))\n",
    "\n",
    "    model.compile(loss=loss, optimizer=adadelta, metrics=['accuracy'])\n",
    "\n",
    "    return model"
   ]
  },
  {
   "cell_type": "code",
   "execution_count": null,
   "metadata": {
    "_uuid": "a4a6637f192b18d3fc1b887f88d94398a4dca431"
   },
   "outputs": [],
   "source": [
    "model_cnn_1 = cnn_model_1(activation)\n",
    "model_cnn_1.summary()"
   ]
  },
  {
   "cell_type": "code",
   "execution_count": null,
   "metadata": {
    "_kg_hide-output": true,
    "_uuid": "753a494ae46339d1f9f1973e04cd46dbca3026a9"
   },
   "outputs": [],
   "source": [
    "#model_cnn_1.fit(X_train, y_train, batch_size=batchsize, epochs=epochs, verbose=1)\n",
    "history_cnn_1 = model_cnn_1.fit(X_train, y_train, validation_data=(X_val,y_val_10), \n",
    "                                   epochs=epochs, batch_size=batchsize, verbose=1)"
   ]
  },
  {
   "cell_type": "code",
   "execution_count": null,
   "metadata": {
    "_uuid": "8ba98c29b29be32ee0370797c8ac77366228bb87"
   },
   "outputs": [],
   "source": [
    "plot_history_loss_and_acc(history_cnn_1)"
   ]
  },
  {
   "cell_type": "code",
   "execution_count": null,
   "metadata": {
    "_uuid": "9d31fbbbe5406d375029051c857fc903b101fcf4"
   },
   "outputs": [],
   "source": [
    "pred_val_cnn1 = model_cnn_1.predict_classes(X_val)\n",
    "plot_confusion_matrix(y_val, pred_val_cnn1)\n",
    "print(classification_report(y_val, pred_val_cnn1))\n",
    "acc_cnn1 = accuracy_score(y_val, pred_val_cnn1)\n",
    "print(acc_cnn1)\n"
   ]
  },
  {
   "cell_type": "code",
   "execution_count": null,
   "metadata": {
    "_uuid": "c3e41806cc20e1cf1eea40f0c75422888a393f50"
   },
   "outputs": [],
   "source": []
  },
  {
   "cell_type": "code",
   "execution_count": null,
   "metadata": {
    "_uuid": "37dfe5415315db2a03f2225bff9386aec5238cfb"
   },
   "outputs": [],
   "source": []
  },
  {
   "cell_type": "markdown",
   "metadata": {
    "_uuid": "de19d7786fd1cff44b3122da8bb283b62ba49f16"
   },
   "source": [
    "### Keras: CNN model 2  \n",
    "Conv2D (32, (3, 3))  \n",
    "Pooling2D (2,2)  \n",
    "Conv2D (32, (3, 3))  \n",
    "Pooling2D (2,2)  \n",
    "Flatten  \n",
    "Dense(256, relu)  \n",
    "Dense(10, softmax)  "
   ]
  },
  {
   "cell_type": "code",
   "execution_count": null,
   "metadata": {
    "_uuid": "7ccfc62ebf08b287f8a49515bcd015f7bc91c4ea"
   },
   "outputs": [],
   "source": [
    "batch_size=90\n",
    "epochs=30\n"
   ]
  },
  {
   "cell_type": "code",
   "execution_count": null,
   "metadata": {
    "_uuid": "5c79037260e74aba99f1676e64147d83c0357413"
   },
   "outputs": [],
   "source": [
    "def cnn_model_2(optimizer,loss):\n",
    "\n",
    "    model = Sequential()\n",
    "\n",
    "    model.add(Conv2D(32, (3, 3), padding = 'Same', activation=\"relu\", input_shape=input_shape ))\n",
    "    model.add(MaxPooling2D(pool_size = (2, 2)))\n",
    "\n",
    "    model.add(Conv2D(32, (3, 3), activation=\"relu\"))\n",
    "    model.add(MaxPooling2D(pool_size = (2, 2)))\n",
    "\n",
    "    model.add(Flatten())\n",
    "\n",
    "    model.add(Dense(256, activation=activation))\n",
    "    model.add(Dense(10, activation='softmax'))\n",
    "\n",
    "    model.compile(optimizer = optimizer, loss = loss, metrics = ['accuracy']) \n",
    "\n",
    "    return model"
   ]
  },
  {
   "cell_type": "code",
   "execution_count": null,
   "metadata": {
    "_uuid": "118c6e0a388e7ed8ea0d856675a54d71c313276e"
   },
   "outputs": [],
   "source": [
    "model_cnn_2 = cnn_model_2(adadelta, categorical_crossentropy)\n",
    "model_cnn_2.summary()"
   ]
  },
  {
   "cell_type": "code",
   "execution_count": null,
   "metadata": {
    "_kg_hide-output": true,
    "_uuid": "fe6b203292cc967c3ad35e1199694f0ca3755312"
   },
   "outputs": [],
   "source": [
    "#model_cnn_2.fit(X_train, y_train, batch_size=batch_size, epochs=epochs)\n",
    "history_cnn_2 = model_cnn_2.fit(X_train, y_train, validation_data=(X_val,y_val_10), \n",
    "                                epochs=epochs, batch_size=batchsize, verbose=1)"
   ]
  },
  {
   "cell_type": "code",
   "execution_count": null,
   "metadata": {
    "_uuid": "adbe3d7a391ec4eedfcba6c64410dcd24b94c74f"
   },
   "outputs": [],
   "source": [
    "plot_history_loss_and_acc(history_cnn_2)"
   ]
  },
  {
   "cell_type": "code",
   "execution_count": null,
   "metadata": {
    "_uuid": "7060a5a43d925c3c66dd9b7a0ee2ca8215543c28"
   },
   "outputs": [],
   "source": [
    "pred_val_cnn2 = model_cnn_2.predict_classes(X_val)\n",
    "plot_confusion_matrix(y_val, pred_val_cnn2)\n",
    "print(classification_report(y_val, pred_val_cnn2))\n",
    "acc_cnn2 = accuracy_score(y_val, pred_val_cnn2)\n",
    "print(acc_cnn2)"
   ]
  },
  {
   "cell_type": "code",
   "execution_count": null,
   "metadata": {
    "_uuid": "e6f3b90dccee24757d85e13cae01ea4ec774ac2c"
   },
   "outputs": [],
   "source": []
  },
  {
   "cell_type": "code",
   "execution_count": null,
   "metadata": {},
   "outputs": [],
   "source": []
  },
  {
   "cell_type": "markdown",
   "metadata": {
    "_uuid": "bd46c1843dc3685487221202fcaa01187450cce9"
   },
   "source": [
    "# Part 4: Predictions for test data"
   ]
  },
  {
   "cell_type": "code",
   "execution_count": null,
   "metadata": {
    "_uuid": "e5a965e3f8dfc40cd7a0893fb0bf93432cc7dd8d"
   },
   "outputs": [],
   "source": [
    "sample_submission = pd.read_csv('../input/sample_submission.csv')\n",
    "if mode == \"edit\" :\n",
    "    X = X[:nr_samples//2]\n",
    "    y = y[:nr_samples//2]\n",
    "    X_test = X_test[:nr_samples//2]\n",
    "    sample_submission = sample_submission[:nr_samples//2]"
   ]
  },
  {
   "cell_type": "code",
   "execution_count": null,
   "metadata": {
    "_uuid": "3c2ab7b1b478d55cde8e72579d45a9f371cb7891"
   },
   "outputs": [],
   "source": [
    "print(X.shape)\n",
    "print(y.shape)\n",
    "print(X_test.shape)"
   ]
  },
  {
   "cell_type": "markdown",
   "metadata": {
    "_uuid": "bfc8459af6688c2adbc35245c476ba1addcab8ca"
   },
   "source": [
    "## Fitting on all training data"
   ]
  },
  {
   "cell_type": "markdown",
   "metadata": {
    "_uuid": "570c7aadcc59b2fb88c759a30bb9865a9f34794a"
   },
   "source": [
    "**For the GridSearchCV studies on finding the best model parameters we fit the classifiers using cross validation.**  \n",
    "**This reduces the number of training examples because a portion of the data is used for validation.**  \n",
    "**We now fit the classifiers on the complete training set (42000 samples).**  \n",
    "**Then we use this new fit to make predictions for the test dataset (28000 samples).**"
   ]
  },
  {
   "cell_type": "code",
   "execution_count": null,
   "metadata": {},
   "outputs": [],
   "source": []
  },
  {
   "cell_type": "markdown",
   "metadata": {},
   "source": [
    "**Perceptron**"
   ]
  },
  {
   "cell_type": "code",
   "execution_count": null,
   "metadata": {},
   "outputs": [],
   "source": [
    "print(GridCV_Perceptron.best_params_)\n",
    "GridCV_Perceptron.best_estimator_.fit(X,y)"
   ]
  },
  {
   "cell_type": "code",
   "execution_count": null,
   "metadata": {},
   "outputs": [],
   "source": [
    "pred_test_perc = GridCV_Perceptron.best_estimator_.predict(X_test)\n",
    "result_perc = pd.DataFrame({'ImageId':sample_submission.ImageId, 'Label':pred_test_perc})\n",
    "result_perc.to_csv(\"subm_perc.csv\",index=False)"
   ]
  },
  {
   "cell_type": "markdown",
   "metadata": {},
   "source": [
    "**Logistic Regression**"
   ]
  },
  {
   "cell_type": "code",
   "execution_count": null,
   "metadata": {},
   "outputs": [],
   "source": [
    "print(GridCV_LR.best_params_)\n",
    "GridCV_LR.best_estimator_.fit(X,y)"
   ]
  },
  {
   "cell_type": "code",
   "execution_count": null,
   "metadata": {},
   "outputs": [],
   "source": [
    "pred_test_lr = GridCV_LR.best_estimator_.predict(X_test)\n",
    "result_lr = pd.DataFrame({'ImageId':sample_submission.ImageId, 'Label':pred_test_lr})\n",
    "result_lr.to_csv(\"subm_lr.csv\",index=False)"
   ]
  },
  {
   "cell_type": "markdown",
   "metadata": {},
   "source": [
    "**KNN**"
   ]
  },
  {
   "cell_type": "code",
   "execution_count": null,
   "metadata": {},
   "outputs": [],
   "source": [
    "clf_knn.fit(X,y)"
   ]
  },
  {
   "cell_type": "code",
   "execution_count": null,
   "metadata": {},
   "outputs": [],
   "source": [
    "pred_test_knn = clf_knn.predict(X_test)\n",
    "result_knn = pd.DataFrame({'ImageId':sample_submission.ImageId, 'Label':pred_test_knn})\n",
    "result_knn.to_csv(\"subm_knn.csv\",index=False)"
   ]
  },
  {
   "cell_type": "markdown",
   "metadata": {
    "_uuid": "06692ecfb698bee2fe81bededdb0c43ff0af9cd4"
   },
   "source": [
    "**Random Forest**"
   ]
  },
  {
   "cell_type": "code",
   "execution_count": null,
   "metadata": {
    "_uuid": "f4b09aeeb55110c1a1613c5574d2e1e4965e4e49"
   },
   "outputs": [],
   "source": [
    "print(GridCV_RF.best_params_)\n",
    "GridCV_RF.best_estimator_.fit(X,y)"
   ]
  },
  {
   "cell_type": "code",
   "execution_count": null,
   "metadata": {
    "_uuid": "8b9424506c96c1489e6a6edc398a1a4d05138ea4"
   },
   "outputs": [],
   "source": [
    "pred_test_rf = GridCV_RF.best_estimator_.predict(X_test)\n",
    "result_rf = pd.DataFrame({'ImageId':sample_submission.ImageId, 'Label':pred_test_rf})\n",
    "result_rf.to_csv(\"subm_rf.csv\",index=False)"
   ]
  },
  {
   "cell_type": "markdown",
   "metadata": {},
   "source": [
    "**SVM**"
   ]
  },
  {
   "cell_type": "code",
   "execution_count": null,
   "metadata": {},
   "outputs": [],
   "source": [
    "clf_svm.fit(X,y)"
   ]
  },
  {
   "cell_type": "code",
   "execution_count": null,
   "metadata": {},
   "outputs": [],
   "source": [
    "pred_test_svm = clf_svm.predict(X_test)\n",
    "result_svm = pd.DataFrame({'ImageId':sample_submission.ImageId, 'Label':pred_test_svm})\n",
    "result_svm.to_csv(\"subm_svm.csv\",index=False)"
   ]
  },
  {
   "cell_type": "markdown",
   "metadata": {
    "_uuid": "1bdcfe075e2caea29dc6714161f8e7306dbea8e9"
   },
   "source": [
    "**MLP**"
   ]
  },
  {
   "cell_type": "code",
   "execution_count": null,
   "metadata": {
    "_uuid": "6e75e8a0c00fd9bc664fc7a10721d51b483ee36e"
   },
   "outputs": [],
   "source": [
    "print(GridCV_MLP.best_params_)\n",
    "GridCV_MLP.best_estimator_.fit(X,y)"
   ]
  },
  {
   "cell_type": "code",
   "execution_count": null,
   "metadata": {
    "_uuid": "df1c0ac5208d098578e4341402c1c4cca459c9a2"
   },
   "outputs": [],
   "source": [
    "pred_test_mlp = GridCV_MLP.best_estimator_.predict(X_test)\n",
    "result_mlp = pd.DataFrame({'ImageId':sample_submission.ImageId, 'Label':pred_test_mlp})\n",
    "result_mlp.to_csv(\"subm_mlp.csv\",index=False)"
   ]
  },
  {
   "cell_type": "code",
   "execution_count": null,
   "metadata": {
    "_uuid": "ba68604039f0621a649cc30b0762a20e2c568577"
   },
   "outputs": [],
   "source": []
  },
  {
   "cell_type": "code",
   "execution_count": null,
   "metadata": {},
   "outputs": [],
   "source": [
    "y = to_categorical(y, 10)"
   ]
  },
  {
   "cell_type": "markdown",
   "metadata": {},
   "source": [
    "**dense_1**"
   ]
  },
  {
   "cell_type": "code",
   "execution_count": null,
   "metadata": {},
   "outputs": [],
   "source": [
    "model_dense_1.fit(X,y)\n",
    "pred_test_fc1 = model_dense_1.predict_classes(X_test)\n",
    "result_fc1 = pd.DataFrame({'ImageId':sample_submission.ImageId, 'Label':pred_test_fc1})\n",
    "result_fc1.to_csv(\"dense_1.csv\",index=False)"
   ]
  },
  {
   "cell_type": "code",
   "execution_count": null,
   "metadata": {},
   "outputs": [],
   "source": []
  },
  {
   "cell_type": "markdown",
   "metadata": {},
   "source": [
    "**dense_2**"
   ]
  },
  {
   "cell_type": "code",
   "execution_count": null,
   "metadata": {},
   "outputs": [],
   "source": [
    "model_dense_2.fit(X,y)\n",
    "pred_test_fc2 = model_dense_2.predict_classes(X_test)\n",
    "result_fc2 = pd.DataFrame({'ImageId':sample_submission.ImageId, 'Label':pred_test_fc2})\n",
    "result_fc2.to_csv(\"dense_2.csv\",index=False)"
   ]
  },
  {
   "cell_type": "code",
   "execution_count": null,
   "metadata": {},
   "outputs": [],
   "source": []
  },
  {
   "cell_type": "markdown",
   "metadata": {},
   "source": [
    "**dense_3**"
   ]
  },
  {
   "cell_type": "code",
   "execution_count": null,
   "metadata": {},
   "outputs": [],
   "source": [
    "model_dense_3.fit(X,y)\n",
    "pred_test_fc3 = model_dense_3.predict_classes(X_test)\n",
    "result_fc3 = pd.DataFrame({'ImageId':sample_submission.ImageId, 'Label':pred_test_fc3})\n",
    "result_fc3.to_csv(\"dense_3.csv\",index=False)"
   ]
  },
  {
   "cell_type": "code",
   "execution_count": null,
   "metadata": {},
   "outputs": [],
   "source": []
  },
  {
   "cell_type": "code",
   "execution_count": null,
   "metadata": {},
   "outputs": [],
   "source": []
  },
  {
   "cell_type": "markdown",
   "metadata": {},
   "source": [
    "**reshape for CNN**"
   ]
  },
  {
   "cell_type": "code",
   "execution_count": null,
   "metadata": {
    "_uuid": "f837e052e9122a35c40f234537a7e78c326141ee"
   },
   "outputs": [],
   "source": [
    "X = X.values.reshape(X.shape[0], img_rows, img_cols, 1)\n",
    "X_test = X_test.values.reshape(X_test.shape[0], img_rows, img_cols, 1)\n",
    "#y = to_categorical(y, 10)"
   ]
  },
  {
   "cell_type": "markdown",
   "metadata": {
    "_uuid": "7d707dbea94924b801baec99f68f4425855a0835"
   },
   "source": [
    "**CNN 1**"
   ]
  },
  {
   "cell_type": "code",
   "execution_count": null,
   "metadata": {
    "_uuid": "84ce81d5aecc157d902bd81f715dea44a32ad8dd"
   },
   "outputs": [],
   "source": [
    "batchsize = 128\n",
    "epochs = 12\n",
    "model_cnn_1 = cnn_model_1('relu')\n",
    "model_cnn_1.fit(X, y, epochs=epochs, batch_size=batchsize, verbose=0)"
   ]
  },
  {
   "cell_type": "code",
   "execution_count": null,
   "metadata": {
    "_uuid": "5713f7ef07f85800b6869769c4f44f96cc917f4f"
   },
   "outputs": [],
   "source": [
    "pred_test_cnn_1 = model_cnn_1.predict(X_test)\n",
    "pred_test_cnn_1 = np.argmax(pred_test_cnn_1,axis=1)\n",
    "result_cnn_1 = pd.DataFrame({'ImageId':sample_submission.ImageId, 'Label':pred_test_cnn_1})\n",
    "result_cnn_1.to_csv(\"subm_cnn_1.csv\",index=False)"
   ]
  },
  {
   "cell_type": "code",
   "execution_count": null,
   "metadata": {
    "_uuid": "6c67a69ccc0b8ae7036c90bafbd83acc4521b92a"
   },
   "outputs": [],
   "source": []
  },
  {
   "cell_type": "markdown",
   "metadata": {
    "_uuid": "39798af2742ea7a448937b104d4f2574a5d6929e"
   },
   "source": [
    "**CNN 2**"
   ]
  },
  {
   "cell_type": "code",
   "execution_count": null,
   "metadata": {
    "_uuid": "d592f348e38a7f1fd73b54b03cae5a9988440452"
   },
   "outputs": [],
   "source": [
    "batch_size=90\n",
    "epochs=30\n",
    "model_cnn_2 = cnn_model_2(adadelta, categorical_crossentropy)\n",
    "model_cnn_2.fit(X, y, epochs=epochs, batch_size=batchsize, verbose=0)"
   ]
  },
  {
   "cell_type": "code",
   "execution_count": null,
   "metadata": {
    "_uuid": "a398cc85d02a18befc6761cbb12ed7b6aaa7c508"
   },
   "outputs": [],
   "source": [
    "pred_test_cnn_2 = model_cnn_2.predict(X_test)\n",
    "pred_test_cnn_2 = np.argmax(pred_test_cnn_2,axis=1)\n",
    "result_cnn_2 = pd.DataFrame({'ImageId':sample_submission.ImageId, 'Label':pred_test_cnn_2})\n",
    "result_cnn_2.to_csv(\"subm_cnn_2_adadelta.csv\",index=False)"
   ]
  },
  {
   "cell_type": "code",
   "execution_count": null,
   "metadata": {
    "_uuid": "7300c21c094dfa58536e8a2edd919b3629bb941d"
   },
   "outputs": [],
   "source": []
  },
  {
   "cell_type": "markdown",
   "metadata": {},
   "source": [
    "Correlation of prediction results"
   ]
  },
  {
   "cell_type": "code",
   "execution_count": null,
   "metadata": {
    "_uuid": "cdb3d41e7a3b1478e048fe8434ca0661e44bc28a"
   },
   "outputs": [],
   "source": [
    "predictions = {'PERC': pred_test_perc, 'LR': pred_test_lr, 'KNN': pred_test_knn, \n",
    "               'RF': pred_test_rf, 'SVM': pred_test_svm, 'MLP': pred_test_mlp, \n",
    "               'DENSE1': pred_test_fc1, 'DENSE2': pred_test_fc2, 'DENSE3': pred_test_fc3, \n",
    "               'CNN1': pred_test_cnn_1, 'CNN2': pred_test_cnn_2}\n",
    "df_predictions = pd.DataFrame(data=predictions) \n",
    "df_predictions.corr()"
   ]
  },
  {
   "cell_type": "code",
   "execution_count": null,
   "metadata": {
    "_uuid": "cc7d2ec9be26dfcab932eecf34cb6351c84dd85a"
   },
   "outputs": [],
   "source": []
  },
  {
   "cell_type": "markdown",
   "metadata": {},
   "source": [
    "# Part 5: Comparing classifier performance"
   ]
  },
  {
   "cell_type": "code",
   "execution_count": null,
   "metadata": {},
   "outputs": [],
   "source": [
    "list_classifiers = ['PERC','LR','KNN','RF','SVM',\n",
    "                    'MLP','DENSE1','DENSE2','DENSE3',\n",
    "                    'CNN1','CNN2']"
   ]
  },
  {
   "cell_type": "markdown",
   "metadata": {},
   "source": [
    "## Validation scores"
   ]
  },
  {
   "cell_type": "markdown",
   "metadata": {},
   "source": [
    "from validation data"
   ]
  },
  {
   "cell_type": "code",
   "execution_count": null,
   "metadata": {
    "_uuid": "11f2b5a8c4d13361b317a39b2187ac18965397a8",
    "scrolled": true
   },
   "outputs": [],
   "source": [
    "val_scores = [acc_perc, acc_lr, acc_knn, acc_rf, \n",
    "               acc_svm, acc_mlp, acc_fc1, acc_fc2, \n",
    "               acc_fc3, acc_cnn1, acc_cnn2]"
   ]
  },
  {
   "cell_type": "markdown",
   "metadata": {
    "_uuid": "d5fbb8af1cfba8eccd1338e9befa6e61e6ca355d"
   },
   "source": [
    "## Test scores"
   ]
  },
  {
   "cell_type": "markdown",
   "metadata": {},
   "source": [
    "from submission "
   ]
  },
  {
   "cell_type": "code",
   "execution_count": null,
   "metadata": {
    "_cell_guid": "79c7e3d0-c299-4dcb-8224-4455121ee9b0",
    "_uuid": "d629ff2d2480ee46fbb7e2d37f6b5fab8052498a"
   },
   "outputs": [],
   "source": [
    "score_perc  = 0.88057\n",
    "score_lr    = 0.88700\n",
    "score_knn   = 0.96557\n",
    "score_rf    = 0.96028\n",
    "score_svm   = 0.98100\n",
    "score_mlp   = 0.96985\n",
    "\n",
    "score_dns_1  = 0.95971 \n",
    "score_dns_2  = 0.96228      \n",
    "score_dns_3  = 0.96128\n",
    "score_cnn_1  = 0.98928\n",
    "score_cnn_2  = 0.99028"
   ]
  },
  {
   "cell_type": "code",
   "execution_count": null,
   "metadata": {
    "_uuid": "41dc9e6e79e4aaf747f429267212bf566d57ae9e"
   },
   "outputs": [],
   "source": [
    "test_scores = [score_perc, score_lr, score_knn, score_rf, score_svm, score_mlp,\n",
    "               score_dns_1, score_dns_2, score_dns_3, score_cnn_1, score_cnn_2]"
   ]
  },
  {
   "cell_type": "code",
   "execution_count": null,
   "metadata": {
    "_uuid": "ff293aebece64b3962a973cc5f2155995d99abf7"
   },
   "outputs": [],
   "source": []
  },
  {
   "cell_type": "code",
   "execution_count": null,
   "metadata": {
    "_uuid": "a2ef32f348371da4c987e5812d08ca41144930d4"
   },
   "outputs": [],
   "source": [
    "trace1 = go.Scatter(x = list_classifiers, y = val_scores,\n",
    "                   name=\"Validation\", text = list_classifiers)\n",
    "trace2 = go.Scatter(x = list_classifiers, y = test_scores,\n",
    "                   name=\"Submission\", text = list_classifiers)\n",
    "\n",
    "data = [trace1, trace2]\n",
    "\n",
    "layout = dict(title = \"Validation and Submission Scores\", \n",
    "              xaxis=dict(ticklen=10, zeroline= False),\n",
    "              yaxis=dict(title = \"Accuracy\", side='left', ticklen=10,),                                  \n",
    "              legend=dict(orientation=\"v\", x=1.05, y=1.0),\n",
    "              autosize=False, width=750, height=500,\n",
    "              )\n",
    "\n",
    "fig = dict(data = data, layout = layout)\n",
    "iplot(fig)"
   ]
  },
  {
   "cell_type": "code",
   "execution_count": null,
   "metadata": {},
   "outputs": [],
   "source": []
  },
  {
   "cell_type": "markdown",
   "metadata": {},
   "source": [
    "## Conclusions on classifier performance"
   ]
  },
  {
   "cell_type": "markdown",
   "metadata": {},
   "source": [
    "* Best accuracy around 99% is obtained with CNN1 and CNN2.  \n",
    "* SVC also has very good accuracy with 98%  \n",
    "* Except for Perceptron and Logistic regression, all classifiers get accuarcy similar to humans (above 95%)  \n",
    "* Fully connected NNs (dense 1,2,3) show most overfitting (validation score much larger than test score)"
   ]
  },
  {
   "cell_type": "code",
   "execution_count": null,
   "metadata": {},
   "outputs": [],
   "source": []
  },
  {
   "cell_type": "markdown",
   "metadata": {},
   "source": [
    "# Part 6: Different Optimizers"
   ]
  },
  {
   "cell_type": "markdown",
   "metadata": {},
   "source": [
    "Adadelta"
   ]
  },
  {
   "cell_type": "code",
   "execution_count": null,
   "metadata": {},
   "outputs": [],
   "source": [
    "model_cnn_2.optimizer"
   ]
  },
  {
   "cell_type": "markdown",
   "metadata": {},
   "source": [
    "RMSprop"
   ]
  },
  {
   "cell_type": "code",
   "execution_count": null,
   "metadata": {
    "_uuid": "720d7a152db9aa4c0bac2bcbd829d3b4f6cb27ec"
   },
   "outputs": [],
   "source": [
    "model_cnn_2_rmsprop = cnn_model_2(RMSprop(), categorical_crossentropy)\n",
    "model_cnn_2_rmsprop.optimizer"
   ]
  },
  {
   "cell_type": "code",
   "execution_count": null,
   "metadata": {},
   "outputs": [],
   "source": [
    "model_cnn_2.fit(X, y, epochs=epochs, batch_size=batchsize, verbose=0)\n",
    "pred_test_cnn_2 = model_cnn_2.predict(X_test)\n",
    "pred_test_cnn_2 = np.argmax(pred_test_cnn_2,axis=1)\n",
    "result_cnn_2 = pd.DataFrame({'ImageId':sample_submission.ImageId, 'Label':pred_test_cnn_2})\n",
    "result_cnn_2.to_csv(\"subm_cnn_2_rmsprop.csv\",index=False)"
   ]
  },
  {
   "cell_type": "markdown",
   "metadata": {},
   "source": [
    "Adam"
   ]
  },
  {
   "cell_type": "code",
   "execution_count": null,
   "metadata": {},
   "outputs": [],
   "source": [
    "model_cnn_2_adam = cnn_model_2(Adam(), categorical_crossentropy)\n",
    "model_cnn_2_adam.optimizer"
   ]
  },
  {
   "cell_type": "code",
   "execution_count": null,
   "metadata": {},
   "outputs": [],
   "source": [
    "model_cnn_2.fit(X, y, epochs=epochs, batch_size=batchsize, verbose=0)\n",
    "pred_test_cnn_2 = model_cnn_2.predict(X_test)\n",
    "pred_test_cnn_2 = np.argmax(pred_test_cnn_2,axis=1)\n",
    "result_cnn_2 = pd.DataFrame({'ImageId':sample_submission.ImageId, 'Label':pred_test_cnn_2})\n",
    "result_cnn_2.to_csv(\"subm_cnn_2_adam.csv\",index=False)"
   ]
  },
  {
   "cell_type": "code",
   "execution_count": null,
   "metadata": {},
   "outputs": [],
   "source": []
  },
  {
   "cell_type": "code",
   "execution_count": null,
   "metadata": {},
   "outputs": [],
   "source": []
  },
  {
   "cell_type": "markdown",
   "metadata": {},
   "source": [
    "# Part 7: Investigating false predictions"
   ]
  },
  {
   "cell_type": "code",
   "execution_count": null,
   "metadata": {},
   "outputs": [],
   "source": [
    "arr_y_val = y_val.values\n",
    "false_cnn2 = pred_val_cnn2 != arr_y_val"
   ]
  },
  {
   "cell_type": "code",
   "execution_count": null,
   "metadata": {},
   "outputs": [],
   "source": [
    "fig, axs = plt.subplots(5, 5, sharex=True, sharey=True, figsize=(10,12))\n",
    "axs = axs.flatten()\n",
    "for i, n  in enumerate(false_cnn2[:25]):\n",
    "    im = X_val[false_cnn2][i,:,:,0]\n",
    "    axs[i].imshow(im, cmap=plt.get_cmap('gray'))\n",
    "    title = (\"predicted: \" + str(pred_val_cnn2[false_cnn2][i]) + \n",
    "            \"\\n\" + \"true: \" + str(arr_y_val[false_cnn2][i]) )\n",
    "    axs[i].set_title(title)\n",
    "plt.tight_layout()    "
   ]
  },
  {
   "cell_type": "code",
   "execution_count": null,
   "metadata": {},
   "outputs": [],
   "source": []
  },
  {
   "cell_type": "code",
   "execution_count": null,
   "metadata": {},
   "outputs": [],
   "source": []
  }
 ],
 "metadata": {
  "kernelspec": {
   "display_name": "Python 3 (ipykernel)",
   "language": "python",
   "name": "python3"
  },
  "language_info": {
   "codemirror_mode": {
    "name": "ipython",
    "version": 3
   },
   "file_extension": ".py",
   "mimetype": "text/x-python",
   "name": "python",
   "nbconvert_exporter": "python",
   "pygments_lexer": "ipython3",
   "version": "3.9.6"
  }
 },
 "nbformat": 4,
 "nbformat_minor": 1
}
