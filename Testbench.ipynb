{
 "cells": [
  {
   "cell_type": "code",
   "execution_count": 1,
   "id": "3034748c",
   "metadata": {},
   "outputs": [],
   "source": [
    "%load_ext autoreload \n",
    "%autoreload 2"
   ]
  },
  {
   "cell_type": "code",
   "execution_count": 2,
   "id": "562a43f5",
   "metadata": {},
   "outputs": [],
   "source": [
    "import utils\n",
    "import activation\n",
    "from cost import SquaredDistance\n",
    "from net import NeuralNet\n",
    "from layers import InputLayer, OutputLayer, HiddenLayer, Layer\n",
    "from linalg import Vector, Matrix2D"
   ]
  },
  {
   "cell_type": "code",
   "execution_count": 3,
   "id": "e9a0f7f4",
   "metadata": {},
   "outputs": [],
   "source": [
    "# load data\n",
    "data, labels = utils.read_data(\"../HandwrittenDigits/mnist_train.csv\", nrows=1)\n",
    "labels = Vector([int(i) for i in labels.vector])"
   ]
  },
  {
   "cell_type": "code",
   "execution_count": 4,
   "id": "da36ee8f",
   "metadata": {},
   "outputs": [],
   "source": [
    "# convert labels to matrix format as probabilities\n",
    "new_columns = []\n",
    "for label in labels.vector:\n",
    "    new_columns.append(Vector([1 if label==i else 0 for i in range(10)]))\n",
    "labels = Matrix2D(new_columns)"
   ]
  },
  {
   "cell_type": "code",
   "execution_count": 43,
   "id": "1aafe466",
   "metadata": {},
   "outputs": [],
   "source": [
    "# network for computing single sample\n",
    "input_layer = InputLayer(data.columns[0])\n",
    "output_layer = OutputLayer(size=10, activation=activation.Softmax())\n",
    "hidden_layers = [\n",
    "    HiddenLayer(size=16, activation=activation.Sigmoid()),\n",
    "    HiddenLayer(size=16, activation=activation.Sigmoid())\n",
    "]\n",
    "net = NeuralNet(input_layer=input_layer, output_layer=output_layer, hidden_layers=hidden_layers,\n",
    "                cost_function=SquaredDistance())"
   ]
  },
  {
   "cell_type": "code",
   "execution_count": 45,
   "id": "7b0af6af",
   "metadata": {},
   "outputs": [
    {
     "name": "stdout",
     "output_type": "stream",
     "text": [
      "1.2889907916241106\n"
     ]
    }
   ],
   "source": [
    "net.compute_single()\n",
    "print(net.compute_cost(labels.columns[0]))"
   ]
  },
  {
   "cell_type": "code",
   "execution_count": 46,
   "id": "ea7028dd",
   "metadata": {},
   "outputs": [
    {
     "data": {
      "text/plain": [
       "[0.003536496274333057,\n",
       " 0.405096838712373,\n",
       " 0.20528158830024365,\n",
       " 0.029670352712415787,\n",
       " 0.30238577976961967,\n",
       " 0.005178489889957342,\n",
       " 0.01194684921613546,\n",
       " 0.0039466845954374856,\n",
       " 0.01170372765887794,\n",
       " 0.02125319287060659]"
      ]
     },
     "execution_count": 46,
     "metadata": {},
     "output_type": "execute_result"
    }
   ],
   "source": [
    "net.output_layer.values.vector"
   ]
  },
  {
   "cell_type": "code",
   "execution_count": 47,
   "id": "0071155c",
   "metadata": {},
   "outputs": [
    {
     "data": {
      "text/plain": [
       "[0, 0, 0, 0, 0, 1, 0, 0, 0, 0]"
      ]
     },
     "execution_count": 47,
     "metadata": {},
     "output_type": "execute_result"
    }
   ],
   "source": [
    "labels.columns[0].vector"
   ]
  }
 ],
 "metadata": {
  "kernelspec": {
   "display_name": "Python 3 (ipykernel)",
   "language": "python",
   "name": "python3"
  },
  "language_info": {
   "codemirror_mode": {
    "name": "ipython",
    "version": 3
   },
   "file_extension": ".py",
   "mimetype": "text/x-python",
   "name": "python",
   "nbconvert_exporter": "python",
   "pygments_lexer": "ipython3",
   "version": "3.9.6"
  }
 },
 "nbformat": 4,
 "nbformat_minor": 5
}
