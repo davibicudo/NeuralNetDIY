{
 "cells": [
  {
   "cell_type": "code",
   "execution_count": 1,
   "id": "31b2ab5e",
   "metadata": {},
   "outputs": [],
   "source": [
    "%load_ext autoreload \n",
    "%autoreload 2"
   ]
  },
  {
   "cell_type": "code",
   "execution_count": 2,
   "id": "22d173b8",
   "metadata": {},
   "outputs": [],
   "source": [
    "import utils\n",
    "import activation\n",
    "from cost import SquaredDistance\n",
    "from net import NeuralNet\n",
    "from layers import InputLayer, OutputLayer, HiddenLayer, Layer\n",
    "from linalg import Vector, Matrix2D"
   ]
  },
  {
   "cell_type": "code",
   "execution_count": 3,
   "id": "feb02335",
   "metadata": {},
   "outputs": [],
   "source": [
    "# load data\n",
    "data, labels = utils.read_data(\"../HandwrittenDigits/mnist_train.csv\", nrows=1)\n",
    "labels = Vector([int(i) for i in labels.vector])"
   ]
  },
  {
   "cell_type": "code",
   "execution_count": 4,
   "id": "0b59b6d2",
   "metadata": {},
   "outputs": [],
   "source": [
    "# convert labels to matrix format as probabilities\n",
    "new_columns = []\n",
    "for label in labels.vector:\n",
    "    new_columns.append(Vector([1 if label==i else 0 for i in range(10)]))\n",
    "labels = Matrix2D(new_columns)"
   ]
  },
  {
   "cell_type": "code",
   "execution_count": 5,
   "id": "be697a23",
   "metadata": {},
   "outputs": [],
   "source": [
    "# network for computing single sample\n",
    "input_layer = InputLayer(data.columns[0])\n",
    "output_layer = OutputLayer(size=10, activation=activation.Softmax())\n",
    "hidden_layers = [\n",
    "    HiddenLayer(size=16, activation=activation.Sigmoid()),\n",
    "    HiddenLayer(size=16, activation=activation.Sigmoid())\n",
    "]\n",
    "net = NeuralNet(input_layer=input_layer, output_layer=output_layer, hidden_layers=hidden_layers,\n",
    "                cost_function=SquaredDistance())"
   ]
  },
  {
   "cell_type": "code",
   "execution_count": 6,
   "id": "1fb2f11e",
   "metadata": {},
   "outputs": [
    {
     "name": "stdout",
     "output_type": "stream",
     "text": [
      "0.9000000000000001\n"
     ]
    }
   ],
   "source": [
    "net.compute_single()\n",
    "print(net.compute_cost(labels.columns[0]))"
   ]
  },
  {
   "cell_type": "code",
   "execution_count": 7,
   "id": "cd8d57d5",
   "metadata": {},
   "outputs": [
    {
     "data": {
      "text/plain": [
       "[0.1, 0.1, 0.1, 0.1, 0.1, 0.1, 0.1, 0.1, 0.1, 0.1]"
      ]
     },
     "execution_count": 7,
     "metadata": {},
     "output_type": "execute_result"
    }
   ],
   "source": [
    "net.output_layer.values.vector"
   ]
  },
  {
   "cell_type": "code",
   "execution_count": 8,
   "id": "42b23e95",
   "metadata": {},
   "outputs": [
    {
     "data": {
      "text/plain": [
       "[0, 0, 0, 0, 0, 1, 0, 0, 0, 0]"
      ]
     },
     "execution_count": 8,
     "metadata": {},
     "output_type": "execute_result"
    }
   ],
   "source": [
    "labels.columns[0].vector"
   ]
  }
 ],
 "metadata": {
  "kernelspec": {
   "display_name": "Python 3 (ipykernel)",
   "language": "python",
   "name": "python3"
  },
  "language_info": {
   "codemirror_mode": {
    "name": "ipython",
    "version": 3
   },
   "file_extension": ".py",
   "mimetype": "text/x-python",
   "name": "python",
   "nbconvert_exporter": "python",
   "pygments_lexer": "ipython3",
   "version": "3.9.6"
  }
 },
 "nbformat": 4,
 "nbformat_minor": 5
}
