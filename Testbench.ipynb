{
 "cells": [
  {
   "cell_type": "markdown",
   "id": "b57a5253",
   "metadata": {},
   "source": [
    "[![Binder](https://mybinder.org/badge_logo.svg)](https://mybinder.org/v2/gh/davibicudo/NeuralNetDIY/master)"
   ]
  },
  {
   "cell_type": "code",
   "execution_count": 1,
   "id": "b7cbd0e0",
   "metadata": {},
   "outputs": [],
   "source": [
    "%load_ext autoreload \n",
    "%autoreload 2"
   ]
  },
  {
   "cell_type": "code",
   "execution_count": 2,
   "id": "4df11320",
   "metadata": {},
   "outputs": [],
   "source": [
    "import utils\n",
    "import activation\n",
    "from cost import SquaredDistance\n",
    "from net import NeuralNet\n",
    "from layers import InputLayer, OutputLayer, HiddenLayer, Layer\n",
    "from linalg import Vector, Matrix2D"
   ]
  },
  {
   "cell_type": "code",
   "execution_count": 3,
   "id": "851d31b2",
   "metadata": {},
   "outputs": [],
   "source": [
    "# load data\n",
    "data, labels = utils.read_data(\"MNIST/mnist_train.csv\", nrows=1)\n",
    "labels = Vector([int(i) for i in labels.vector])"
   ]
  },
  {
   "cell_type": "code",
   "execution_count": 4,
   "id": "2b7de9db",
   "metadata": {},
   "outputs": [],
   "source": [
    "# convert labels to matrix format as probabilities\n",
    "new_columns = []\n",
    "for label in labels.vector:\n",
    "    new_columns.append(Vector([1 if label==i else 0 for i in range(10)]))\n",
    "labels = Matrix2D(new_columns)"
   ]
  },
  {
   "cell_type": "code",
   "execution_count": 5,
   "id": "592a75b2",
   "metadata": {},
   "outputs": [],
   "source": [
    "# network for computing single sample\n",
    "input_layer = InputLayer(data.columns[0])\n",
    "output_layer = OutputLayer(size=10, activation=activation.Softmax())\n",
    "hidden_layers = [\n",
    "    HiddenLayer(size=16, activation=activation.Sigmoid()),\n",
    "    HiddenLayer(size=16, activation=activation.Sigmoid())\n",
    "]\n",
    "net = NeuralNet(input_layer=input_layer, output_layer=output_layer, hidden_layers=hidden_layers,\n",
    "                cost_function=SquaredDistance())"
   ]
  },
  {
   "cell_type": "code",
   "execution_count": 6,
   "id": "b82a5b3d",
   "metadata": {},
   "outputs": [],
   "source": [
    "# Calculate Y for a single sample, from the initial random params\n",
    "net.compute_single()"
   ]
  },
  {
   "cell_type": "code",
   "execution_count": 7,
   "id": "9b7a8352",
   "metadata": {},
   "outputs": [
    {
     "name": "stdout",
     "output_type": "stream",
     "text": [
      "0.8972148514194389\n"
     ]
    }
   ],
   "source": [
    "# Calculate loss function\n",
    "print(net.compute_cost(labels.columns[0]))"
   ]
  },
  {
   "cell_type": "code",
   "execution_count": 8,
   "id": "53ac678e",
   "metadata": {},
   "outputs": [
    {
     "data": {
      "text/plain": [
       "[0.016246420232554123,\n",
       " 0.052775757120516895,\n",
       " 0.044753535777317714,\n",
       " 0.01305377008851579,\n",
       " 0.13251425385094084,\n",
       " 0.13302532921666307,\n",
       " 0.058551205022785935,\n",
       " 0.29450046889877535,\n",
       " 0.13785296337686392,\n",
       " 0.11672629641506632]"
      ]
     },
     "execution_count": 8,
     "metadata": {},
     "output_type": "execute_result"
    }
   ],
   "source": [
    "# Predicted Y\n",
    "net.output_layer.values.vector"
   ]
  },
  {
   "cell_type": "code",
   "execution_count": 9,
   "id": "5b295292",
   "metadata": {},
   "outputs": [
    {
     "data": {
      "text/plain": [
       "[0, 0, 0, 0, 0, 1, 0, 0, 0, 0]"
      ]
     },
     "execution_count": 9,
     "metadata": {},
     "output_type": "execute_result"
    }
   ],
   "source": [
    "# Expected Y\n",
    "labels.columns[0].vector"
   ]
  },
  {
   "cell_type": "code",
   "execution_count": null,
   "id": "64ad0a45",
   "metadata": {},
   "outputs": [],
   "source": []
  }
 ],
 "metadata": {
  "kernelspec": {
   "display_name": "Python 3 (ipykernel)",
   "language": "python",
   "name": "python3"
  },
  "language_info": {
   "codemirror_mode": {
    "name": "ipython",
    "version": 3
   },
   "file_extension": ".py",
   "mimetype": "text/x-python",
   "name": "python",
   "nbconvert_exporter": "python",
   "pygments_lexer": "ipython3",
   "version": "3.9.6"
  }
 },
 "nbformat": 4,
 "nbformat_minor": 5
}
